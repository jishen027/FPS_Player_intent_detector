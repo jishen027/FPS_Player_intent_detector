{
 "cells": [
  {
   "cell_type": "markdown",
   "metadata": {},
   "source": [
    "# Assignment Part 1 Brief \n",
    "\n",
    "## Deadline: Friday, December 3, 2021 at 15:00 hrs\n",
    "\n",
    "## Number of marks available: 25\n",
    "\n",
    "## Scope: Sessions 1 to 5\n",
    "\n",
    "### Please READ the whole assignment first, before starting to work on it.\n",
    "\n",
    "### How and what to submit\n",
    "\n",
    "A. A **Jupyter Notebook** with the code in all the cells executed.\n",
    "\n",
    "B. Name your Notebook **COM4509-6509_Assignment_Part1_Username_XXXXXX.ipynb** where XXXXXX is your username such as such as abc18de.  \n",
    "\n",
    "C. Upload a .zip file to Blackboard before the deadline that contains the Jupyter Notebook in B and any other files requested for the solution of Part 2. \n",
    "\n",
    "D. **NO DATA UPLOAD**: Please do not upload the data files used in this Notebook. We have a copy already. \n",
    "\n",
    "\n",
    "### Assessment Criteria \n",
    "\n",
    "* Being able to use numpy and pandas to preprocess a dataset.\n",
    "\n",
    "* Being able to use numpy to build a machine learning pipeline for supervised learning. \n",
    "\n",
    "* Being able to follow the steps involved in an end-to-end project in machine learning.\n",
    "\n",
    "* Being able to use scikit-learn to design a machine learning model pipeline\n",
    "\n",
    "\n",
    "### Late submissions\n",
    "\n",
    "We follow Department's guidelines about late submissions, i.e., a deduction of 5% of the mark each working day the work is late after the deadline. NO late submission will be marked one week after the deadline because we will release a solution by then. Please read [this link](https://sites.google.com/sheffield.ac.uk/comughandbook/general-information/assessment/late-submission) if you are taking COM4509 or read [this link](https://sites.google.com/sheffield.ac.uk/compgtstudenthandbook/menu/assessment/late-submission) if you are taking COM6509. \n",
    "\n",
    "### Use of unfair means \n",
    "\n",
    "**\"Any form of unfair means is treated as a serious academic offence and action may be taken under the Discipline Regulations.\"** (from the students Handbook). Please carefully read [this link](https://sites.google.com/sheffield.ac.uk/comughandbook/general-information/assessment/unfair-means) on what constitutes Unfair Means if not sure, for COM4509. If you are taking COM6509, please read [this link](https://sites.google.com/sheffield.ac.uk/compgtstudenthandbook/menu/referencing-unfair-means) if you are not sure what is Unfair means. If you still have questions, please ask your Personal tutor or the Lecturers. "
   ]
  },
  {
   "cell_type": "markdown",
   "metadata": {},
   "source": [
    "# A dataset of air quality\n",
    "\n",
    "The dataset you will use in this assignment comes from a popular machine learning repository that hosts open source datasets for educational and research purposes, the [UCI Machine Learning Repository](https://archive.ics.uci.edu/ml/index.php). We are going to use regularised ridge regression and random forests for predicting air quality. The description of the dataset can be found [here](https://archive.ics.uci.edu/ml/datasets/Air+Quality)."
   ]
  },
  {
   "cell_type": "code",
   "execution_count": 1,
   "metadata": {},
   "outputs": [
    {
     "data": {
      "text/plain": [
       "('./AirQualityUCI.zip', <http.client.HTTPMessage at 0x7fddfe1eb6a0>)"
      ]
     },
     "execution_count": 1,
     "metadata": {},
     "output_type": "execute_result"
    }
   ],
   "source": [
    "import urllib.request\n",
    "doq = \"https://archive.ics.uci.edu/ml/machine-learning-databases/00360/AirQualityUCI.zip\"\n",
    "pat_sav = \"./AirQualityUCI.zip\"\n",
    "urllib.request.urlretrieve(doq, pat_sav)\n",
    "#urllib.request.urlretrieve(\"https://archive.ics.uci.edu/ml/machine-learning-databases/00360/AirQualityUCI.zip\")"
   ]
  },
  {
   "cell_type": "code",
   "execution_count": 2,
   "metadata": {},
   "outputs": [],
   "source": [
    "import zipfile\n",
    "zip = zipfile.ZipFile('./AirQualityUCI.zip', 'r')\n",
    "for name in zip.namelist():\n",
    "    zip.extract(name, '.')"
   ]
  },
  {
   "cell_type": "code",
   "execution_count": 3,
   "metadata": {},
   "outputs": [],
   "source": [
    "# The .csv version of the file has some typing issues, so we use the excel version\n",
    "import pandas as pd \n",
    "air_quality_full = pd.read_excel('./AirQualityUCI.xlsx', usecols=range(2,15))"
   ]
  },
  {
   "cell_type": "markdown",
   "metadata": {},
   "source": [
    "We can see some of the rows in the dataset "
   ]
  },
  {
   "cell_type": "code",
   "execution_count": 4,
   "metadata": {},
   "outputs": [
    {
     "data": {
      "text/html": [
       "<div>\n",
       "<style scoped>\n",
       "    .dataframe tbody tr th:only-of-type {\n",
       "        vertical-align: middle;\n",
       "    }\n",
       "\n",
       "    .dataframe tbody tr th {\n",
       "        vertical-align: top;\n",
       "    }\n",
       "\n",
       "    .dataframe thead th {\n",
       "        text-align: right;\n",
       "    }\n",
       "</style>\n",
       "<table border=\"1\" class=\"dataframe\">\n",
       "  <thead>\n",
       "    <tr style=\"text-align: right;\">\n",
       "      <th></th>\n",
       "      <th>CO(GT)</th>\n",
       "      <th>PT08.S1(CO)</th>\n",
       "      <th>NMHC(GT)</th>\n",
       "      <th>C6H6(GT)</th>\n",
       "      <th>PT08.S2(NMHC)</th>\n",
       "      <th>NOx(GT)</th>\n",
       "      <th>PT08.S3(NOx)</th>\n",
       "      <th>NO2(GT)</th>\n",
       "      <th>PT08.S4(NO2)</th>\n",
       "      <th>PT08.S5(O3)</th>\n",
       "      <th>T</th>\n",
       "      <th>RH</th>\n",
       "      <th>AH</th>\n",
       "    </tr>\n",
       "  </thead>\n",
       "  <tbody>\n",
       "    <tr>\n",
       "      <th>4618</th>\n",
       "      <td>0.9</td>\n",
       "      <td>829.75</td>\n",
       "      <td>-200</td>\n",
       "      <td>3.786142</td>\n",
       "      <td>698.75</td>\n",
       "      <td>90.0</td>\n",
       "      <td>1011.75</td>\n",
       "      <td>54.0</td>\n",
       "      <td>1338.75</td>\n",
       "      <td>736.00</td>\n",
       "      <td>18.775</td>\n",
       "      <td>59.474999</td>\n",
       "      <td>1.275761</td>\n",
       "    </tr>\n",
       "    <tr>\n",
       "      <th>1932</th>\n",
       "      <td>0.1</td>\n",
       "      <td>780.75</td>\n",
       "      <td>-200</td>\n",
       "      <td>2.888862</td>\n",
       "      <td>645.00</td>\n",
       "      <td>32.0</td>\n",
       "      <td>1295.00</td>\n",
       "      <td>45.0</td>\n",
       "      <td>1319.75</td>\n",
       "      <td>575.25</td>\n",
       "      <td>17.275</td>\n",
       "      <td>47.550000</td>\n",
       "      <td>0.929469</td>\n",
       "    </tr>\n",
       "    <tr>\n",
       "      <th>4056</th>\n",
       "      <td>1.9</td>\n",
       "      <td>-200.00</td>\n",
       "      <td>-200</td>\n",
       "      <td>-200.000000</td>\n",
       "      <td>-200.00</td>\n",
       "      <td>103.0</td>\n",
       "      <td>-200.00</td>\n",
       "      <td>88.0</td>\n",
       "      <td>-200.00</td>\n",
       "      <td>-200.00</td>\n",
       "      <td>-200.000</td>\n",
       "      <td>-200.000000</td>\n",
       "      <td>-200.000000</td>\n",
       "    </tr>\n",
       "    <tr>\n",
       "      <th>8105</th>\n",
       "      <td>4.7</td>\n",
       "      <td>-200.00</td>\n",
       "      <td>-200</td>\n",
       "      <td>-200.000000</td>\n",
       "      <td>-200.00</td>\n",
       "      <td>746.1</td>\n",
       "      <td>-200.00</td>\n",
       "      <td>275.9</td>\n",
       "      <td>-200.00</td>\n",
       "      <td>-200.00</td>\n",
       "      <td>-200.000</td>\n",
       "      <td>-200.000000</td>\n",
       "      <td>-200.000000</td>\n",
       "    </tr>\n",
       "    <tr>\n",
       "      <th>6128</th>\n",
       "      <td>0.5</td>\n",
       "      <td>888.75</td>\n",
       "      <td>-200</td>\n",
       "      <td>4.932008</td>\n",
       "      <td>760.00</td>\n",
       "      <td>195.0</td>\n",
       "      <td>967.75</td>\n",
       "      <td>120.0</td>\n",
       "      <td>918.75</td>\n",
       "      <td>983.25</td>\n",
       "      <td>5.275</td>\n",
       "      <td>48.674999</td>\n",
       "      <td>0.436444</td>\n",
       "    </tr>\n",
       "  </tbody>\n",
       "</table>\n",
       "</div>"
      ],
      "text/plain": [
       "      CO(GT)  PT08.S1(CO)  NMHC(GT)    C6H6(GT)  PT08.S2(NMHC)  NOx(GT)  \\\n",
       "4618     0.9       829.75      -200    3.786142         698.75     90.0   \n",
       "1932     0.1       780.75      -200    2.888862         645.00     32.0   \n",
       "4056     1.9      -200.00      -200 -200.000000        -200.00    103.0   \n",
       "8105     4.7      -200.00      -200 -200.000000        -200.00    746.1   \n",
       "6128     0.5       888.75      -200    4.932008         760.00    195.0   \n",
       "\n",
       "      PT08.S3(NOx)  NO2(GT)  PT08.S4(NO2)  PT08.S5(O3)        T          RH  \\\n",
       "4618       1011.75     54.0       1338.75       736.00   18.775   59.474999   \n",
       "1932       1295.00     45.0       1319.75       575.25   17.275   47.550000   \n",
       "4056       -200.00     88.0       -200.00      -200.00 -200.000 -200.000000   \n",
       "8105       -200.00    275.9       -200.00      -200.00 -200.000 -200.000000   \n",
       "6128        967.75    120.0        918.75       983.25    5.275   48.674999   \n",
       "\n",
       "              AH  \n",
       "4618    1.275761  \n",
       "1932    0.929469  \n",
       "4056 -200.000000  \n",
       "8105 -200.000000  \n",
       "6128    0.436444  "
      ]
     },
     "execution_count": 4,
     "metadata": {},
     "output_type": "execute_result"
    }
   ],
   "source": [
    "air_quality_full.sample(5)"
   ]
  },
  {
   "cell_type": "markdown",
   "metadata": {},
   "source": [
    "The target variable corresponds to the CO(GT) variable of the first column. The following columns correspond to the variables in the feature vectors, *e.g.*, PT08.S1(CO) is $x_1$ up until AH which is $x_D$. The original dataset also has a date and a time columns that we are not going to use in this assignment.\n",
    "\n",
    "### Removing instances \n",
    "\n",
    "The dataset has missing values tagged with a -200 value. To simplify the design of the machine learning models in this assignment, we perform the following two operations to the dataset right from the beginning:\n",
    "\n",
    "* we will remove the rows for which the target variable has missing values. We are doing supervised learning so we need all our data observations to have known target values.\n",
    "\n",
    "* we will remove features with more than 20% of missing values. \n",
    "\n",
    "The code below performs both operations"
   ]
  },
  {
   "cell_type": "code",
   "execution_count": 5,
   "metadata": {},
   "outputs": [],
   "source": [
    "# We first remove the rows for which there are missing values in the target feature\n",
    "air_quality = air_quality_full.loc[air_quality_full.iloc[:, 0]!=-200, :]"
   ]
  },
  {
   "cell_type": "code",
   "execution_count": 6,
   "metadata": {},
   "outputs": [],
   "source": [
    "# We now remove the columns (features) for which there are more that 20% of missing values\n",
    "import numpy as np\n",
    "ndata, ncols = np.shape(air_quality) # number of data observations and number of columns in the dataframe\n",
    "pmissing = np.empty(ncols)         # An empty vector that will keep the percentage of missing values per feature\n",
    "for i in range(ncols):\n",
    "    pmissing[i] = (air_quality.iloc[:, i]==-200).sum()/ndata # Computes the percentage of missing values per column\n",
    "air_quality = air_quality.loc[:, pmissing < 0.2]"
   ]
  },
  {
   "cell_type": "markdown",
   "metadata": {},
   "source": [
    "### Splitting the dataset \n",
    "\n",
    "Before designing any machine learning model, we need to set aside the test data. We will use the remaining training data for fitting the model. *It is important to remember that the test data has to be set aside before preprocessing*. \n",
    "\n",
    "Any preprocessing that you do has to be done only on the training data and several key statistics need to be saved for the test stage.  Separating the dataset into training and test before any preprocessing has happened help us to recreate the real world scenario where we will deploy our system and for which the data will come without any preprocessing.\n",
    "\n",
    "Furthermore, we are going to use *hold-out validation* for validating our predictive model so we need to further separate the training data into a training set and a validation set.\n",
    "\n",
    "We split the dataset into a training set, a validation set and a test set. The training set will have 70% of the total observations, the validation set 15% and the test set, the remaining 15%. For making the random selections of the training and validation sets **make sure that you use a random seed that corresponds to the last five digits of your student UCard**. In the code below, I have used 55555 as an example of my random seed."
   ]
  },
  {
   "cell_type": "code",
   "execution_count": 7,
   "metadata": {},
   "outputs": [],
   "source": [
    "np.random.seed(55555)                 # Make sure you use the last five digits of your student UCard as your seed\n",
    "index = np.random.permutation(ndata)  # We permute the indexes \n",
    "N = np.int64(np.round(0.70*ndata))    # We compute N, the number of training instances\n",
    "Nval = np.int64(np.round(0.15*ndata)) # We compute Nval, the number of validation instances   \n",
    "Ntest = ndata - N - Nval              # We compute Ntest, the number of test instances\n",
    "data_training_unproc = air_quality.iloc[index[0:N], :].copy() # Select the training data\n",
    "data_val_unproc = air_quality.iloc[index[N:N+Nval], :].copy() # Select the validation data\n",
    "data_test_unproc = air_quality.iloc[index[N+Nval:ndata], :].copy() # Select the test data"
   ]
  },
  {
   "cell_type": "markdown",
   "metadata": {},
   "source": [
    "The assigment is divided into two sections. In the **first section**, you will design a regularised ridge regression model trained with stochastic gradient descent. You will write all the code from scratch. You should not use any library that already implements any of the routines considered in this section, for example, scikit-learn. In the **second section**, you will desing a random forests model and you are allowed to use scikit-learn in this section. "
   ]
  },
  {
   "cell_type": "markdown",
   "metadata": {},
   "source": [
    "# 1. Using regularised ridge regression to predict air quality (12 marks)\n",
    "\n",
    "**DO NOT USE scikit-learn for the questions on this section. You are meant to write Python code from scratch. Using scikit-learn for the questions in this section will give ZERO marks. No excuse will be accepted.**\n",
    "\n",
    "When writing your code, you will find out that there are operations that are repeated at least twice. We will assign marks for use of Python functions and for commenting your code. The marks will be assigned as:\n",
    "\n",
    "* Did you include Python functions to solve the question and avoid repeating code? (**1 mark**)\n",
    "* Did you comment your code to make it readable to others? (**1 mark**)\n",
    "\n",
    "Regularisation is a technique commonly used in Machine Learning to prevent overfitting. It consists on adding terms to the objective function such that the optimisation procedure avoids solutions that just learn the training data. Popular techniques for regularisation in Supervised Learning include [Lasso Regression](https://en.wikipedia.org/wiki/Lasso_(statistics)), [Ridge Regression](https://en.wikipedia.org/wiki/Tikhonov_regularization) and the [Elastic Net](https://en.wikipedia.org/wiki/Elastic_net_regularization). \n",
    "\n",
    "In this part of the Assignment, you will be looking at Ridge Regression and implementing equations to optimise the objective function using the update rules for stochastic gradient descent. You will use those update rules for making predictions on the Air Quality dataset.\n",
    "\n",
    "## 1.1 Ridge Regression\n",
    "\n",
    "Let us start with a data set for training $\\mathcal{D} = \\{\\mathbf{y}, \\mathbf{X}\\}$, where the vector $\\mathbf{y}=[y_1, \\cdots, y_N]^{\\top}$ and $\\mathbf{X}$ is the design matrix from Lab 4, this is, \n",
    "\n",
    "\\begin{align*}\n",
    "    \\mathbf{X} = \n",
    "                \\begin{bmatrix}\n",
    "                        1 & x_{1,1} & \\cdots & x_{1, D}\\\\\n",
    "                        1 & x_{2,1} & \\cdots & x_{2, D}\\\\\n",
    "                   \\vdots &  \\vdots\\\\\n",
    "                        1 & x_{N,1} & \\cdots & x_{N, D}\n",
    "                \\end{bmatrix}\n",
    "               = \n",
    "               \\begin{bmatrix}\n",
    "                      \\mathbf{x}_1^{\\top}\\\\\n",
    "                       \\mathbf{x}_2^{\\top}\\\\\n",
    "                          \\vdots\\\\\n",
    "                        \\mathbf{x}_N^{\\top}\n",
    "                \\end{bmatrix}.\n",
    "\\end{align*}\n",
    "\n",
    "Our predictive model is going to be a linear model\n",
    "\n",
    "$$ f(\\mathbf{x}_i) = \\mathbf{w}^{\\top}\\mathbf{x}_i,$$\n",
    "\n",
    "where $\\mathbf{w} = [w_0\\; w_1\\; \\cdots \\; w_D]^{\\top}$.\n",
    "\n",
    "The **objective function** we are going to use has the following form\n",
    "\n",
    "$$ E(\\mathbf{w}, \\lambda) = \\frac{1}{N}\\sum_{n=1}^N (y_n - f(\\mathbf{x}_n))^2 + \\frac{\\lambda}{2}\\sum_{j=0}^D w_j^2,$$\n",
    "\n",
    "where $\\lambda>0$ is known as the *regularisation* parameter.\n",
    "\n",
    "This objective function was studied in Lecture 4. \n",
    "\n",
    "The first term on the rhs is what we call the \"fitting\" term whereas the second term in the expression is the regularisation term. Given $\\lambda$, the two terms in the expression have different purposes. The first term is looking for a value of $\\mathbf{w}$ that leads the squared-errors to zero. While doing this, $\\mathbf{w}$ can take any value and lead to a solution that it is only good for the training data but perhaps not for the test data. The second term is regularising the behavior of the first term by driving the $\\mathbf{w}$ towards zero. By doing this, it restricts the possible set of values that $\\mathbf{w}$ might take according to the first term. The value that we use for $\\lambda$ will allow a compromise between a value of $\\mathbf{w}$ that exactly fits the data (first term) or a value of $\\mathbf{w}$ that does not grow too much (second term).\n",
    "\n",
    "This type of regularisation has different names: ridge regression, Tikhonov regularisation or $\\ell_2$ norm regularisation. \n",
    "\n",
    "## 1.2 Optimising the objective function with respect to $\\mathbf{w}$\n",
    "\n",
    "There are two ways we can optimise the objective function with respect to $\\mathbf{w}$. The first one leads to a closed form expression for $\\mathbf{w}$ and the second one using an iterative optimisation procedure that updates the value of $\\mathbf{w}$ at each iteration by using the gradient of the objective function with respect to $\\mathbf{w}$,\n",
    "$$\n",
    "\\mathbf{w}_{\\text{new}} = \\mathbf{w}_{\\text{old}} - \\eta \\frac{d E(\\mathbf{w}, \\lambda)}{d\\mathbf{w}},\n",
    "$$\n",
    "where $\\eta$ is the *learning rate* parameter and $\\frac{d E(\\mathbf{w}, \\lambda)}{d\\mathbf{w}}$ is the gradient of the objective function.\n",
    "\n",
    "It can be shown (this is a question in the Exercise Sheet 4) that a closed-form expression for the optimal $\\mathbf{w}_*$ is given as\n",
    "\n",
    "\\begin{align*}            \n",
    "            \\mathbf{w}_*& = \\left(\\mathbf{X}^{\\top}\\mathbf{X} + \\frac{\\lambda N}   \n",
    "                                     {2}\\mathbf{I}\\right)^{-1}\\mathbf{X}^{\\top}\\mathbf{y}.\n",
    "\\end{align*}\n",
    "\n",
    "Alternatively, we can find an update equation for $\\mathbf{w}_{\\text{new}}$ using gradient descent leading to:\n",
    "\n",
    "\\begin{align*}\n",
    "   \\mathbf{w}_{\\text{new}} & = \\mathbf{w}_{\\text{old}} - \\eta \\frac{d E(\\mathbf{w}, \\lambda)}\n",
    "                              {d\\mathbf{w}},\\\\\n",
    "                           & = \\mathbf{w}_{\\text{old}} +  \\frac{2\\eta}{N}\\sum_{n=1}^N   \n",
    "                               \\left(y_n - \\mathbf{x}_n^{\\top}\\mathbf{w}_{\\text{old}}\\right)\\mathbf{x}_n  \n",
    "                       - \\eta\\lambda\\mathbf{w}_{\\text{old}}\\\\\n",
    "                           & = (1 - \\eta\\lambda)\\mathbf{w}_{\\text{old}} + \\frac{2\\eta}\n",
    "                               {N}\\sum_{n=1}^N   \n",
    "                               \\left(y_n - \\mathbf{x}_n^{\\top}\\mathbf{w}_{\\text{old}}\\right)\\mathbf{x}_n\n",
    "\\end{align*}"
   ]
  },
  {
   "cell_type": "markdown",
   "metadata": {},
   "source": [
    "## 1.3 Preprocessing the data\n",
    "\n",
    "As mentioned before, the dataset has missing values tagged with a -200 value. Before doing any work with the training data, we want to make sure that we deal properly with the missing values. Furthermore, once we have dealt with the missing values, we want to standardise the training data. \n",
    "\n",
    "### Question 1.a: Missing values and standardisation (2 marks)\n",
    "\n",
    "* For all the other features with missing values, use the mean value of the non-missing values for that feature to perform imputation. Save these mean values, you will need them when performing the validation stage (**1 mark**).\n",
    "\n",
    "* Once you have imputed the missing data, we need to standardise the input vectors. Standardise the training data by substracting the mean value for each feature and dividing the result by the standard deviation of each feature. Keep the mean values and standard deviations, you will need them at validation time (**1 mark**).\n",
    "\n",
    "#### Question 1.a Answer"
   ]
  },
  {
   "cell_type": "code",
   "execution_count": 8,
   "metadata": {},
   "outputs": [],
   "source": [
    "# Write your code here\n",
    "# Get the mean value of the non-missing values per column and use it to impute that column\n",
    "def get_stats_missing_data(data_local):\n",
    "    \"\"\"\n",
    "    Takes an input a dataset with missing values, and replace the missing values by the mean value \n",
    "    of the non-missing. Returns the new dataset with imputed values and the missing values used for imputation\n",
    "    \"\"\"\n",
    "    \n",
    "    data_local = data_local.copy()\n",
    "    ncols = np.size(data_local, 1) # We need to count again the number of columns after removing those with >20% missing values\n",
    "    no_missing_means = np.empty(ncols) # We save the mean values used for imputation in this vector.\n",
    "    #names_columns = data_local.columns\n",
    "    for i in range(0, ncols):    \n",
    "        # We're getting the mean values of the non-missing values\n",
    "        \n",
    "        #value_mean = np.mean(data_local.loc[data_local.iloc[:, i]!=-200, names_columns[i]]) \n",
    "        \n",
    "        value_mean = np.mean(data_local.iloc[(data_local.iloc[:, i]!=-200).values,i])\n",
    "        \n",
    "        # We do the imputation\n",
    "        data_local.iloc[(data_local.iloc[:, i]==-200).values, i] = value_mean \n",
    "        #print(data_local.iloc[0, :])\n",
    "\n",
    "        # We save the mean values for later\n",
    "        no_missing_means[i] = value_mean\n",
    "    return data_local, no_missing_means\n",
    "\n",
    "# Standardise the data\n",
    "def get_stats_standardisation(data_local):\n",
    "    \"\"\"\n",
    "    Takes an input dataframe and computes the mean and standard deviation per column and use those values \n",
    "    to standardise each column. It assumes the target feature is the first column.\n",
    "    \"\"\"\n",
    "    uX =  (data_local.iloc[:, 1:ncols]).values # We get the values of the features\n",
    "    N2, D = np.shape(uX)\n",
    "    meansX = np.mean(uX, 0) # We get the mean values for each column \n",
    "    stdX = np.std(uX, 0)    # We compute the standard deviation for each column\n",
    "    nX = np.empty((N2, D))\n",
    "    for i in range(D):      # We go around substracting the mean and dividing by the std for each feature \n",
    "        nX[:, i] = (uX[:, i] - meansX[i])/stdX[i]  \n",
    "    return nX, meansX, stdX"
   ]
  },
  {
   "cell_type": "code",
   "execution_count": 9,
   "metadata": {},
   "outputs": [],
   "source": [
    "data_training, no_missing_means = get_stats_missing_data(data_training_unproc)\n",
    "nX, meansX, stdX = get_stats_standardisation(data_training)"
   ]
  },
  {
   "cell_type": "markdown",
   "metadata": {},
   "source": [
    "## 1.4 Training and validation stages\n",
    "\n",
    "We have now curated our training data by removing data observations and features with a large amount of missing values. We have also normalised the feature vectors. We are now in a good position to work on developing the prediction model and validating it. We will use gradient descent for iterative optimisation. \n",
    "\n",
    "We first organise the dataframe into the vector of targets $\\mathbf{y}$, call it `yTrain`, and the design matrix $\\mathbf{X}$, call it `XTrain`."
   ]
  },
  {
   "cell_type": "code",
   "execution_count": 10,
   "metadata": {},
   "outputs": [],
   "source": [
    "yTrain = np.reshape((data_training.iloc[:, 0]).values, (N,1)) # The traininig target labels\n",
    "XTrain = np.concatenate((np.ones((N,1)), nX), axis=1)         # The standardised inputs with an additional column vector  "
   ]
  },
  {
   "cell_type": "markdown",
   "metadata": {},
   "source": [
    "### Question 1.b: finding the optimal $\\mathbf{w}$ with stochastic gradient descent (3 marks)\n",
    "\n",
    "Use gradient descent to iteratively compute the value of $\\mathbf{w}_{\\text{new}}$. Instead of using all the training set in `XTrain` and `yTrain` to compute the gradient, use a subset of $S$ instances in `XTrain` and `yTrain`. This is sometimes called *minibatch gradient descent* where $S$ is the size of the minibacth. When using gradient descent with minibatches, you need to find the best values for three parameters: $\\eta$, the learning rate, $S$, the number of datapoints in the minibatch and $\\gamma$, the regularisation parameter.\n",
    "\n",
    "* In this question we will use the validation data. So before proceeding to the next steps, make sure that you:  replace the missing values on each feature variables with the mean value you computed with the training data; standardise the validation data using the means and standard deviations computed from the training data (**1 mark**)\n",
    "    \n",
    "* Create a grid of values for the parameters $\\gamma$ and $\\eta$ using `np.logspace` and a grid of values for $S$ using `np.linspace`. Because you need to find three parameters, start with five values for each parameter in the grid and see if you can increase it. Make sure you understand what is the meaning of `np.logspace` and `np.linspace`. Notice that you can use negative values for `start` in `np.logspace` (**1 mark**)\n",
    "\n",
    "* For each value that you have of $\\gamma$, $\\eta$ and $S$ from the previous step, use the training set to compute $\\mathbf{w}$ using minibatch gradient descent and then measure the RMSE over the validation data. For the validation data, make sure you preprocess it before applying the prediction model over it. For the minibatch gradient descent choose to stop the iterative procedure after $200$ iterations.\n",
    "\n",
    "* Choose the values of $\\gamma$, $\\eta$ and $S$ that lead to the lowest RMSE and save them. You will use them at the test stage.\n",
    "\n",
    "#### Question 1.b Answer"
   ]
  },
  {
   "cell_type": "code",
   "execution_count": 11,
   "metadata": {},
   "outputs": [],
   "source": [
    "# Write your code here\n",
    "# PREPROCESSING THE VALIDATION DATA\n",
    "def set_missing_data(data_local, no_missing_means):\n",
    "    data_local = data_local.copy()\n",
    "    ncols = np.size(data_local, 1)\n",
    "    for i in range(1, ncols):            \n",
    "        data_local.iloc[(data_local.iloc[:, i]==-200).values, i] = no_missing_means[i]\n",
    "    return data_local\n",
    "\n",
    "def set_standardisation(data_local, meansX, stdX):\n",
    "    uX =  (data_local.iloc[:, 1:ncols]).values\n",
    "    N2, D = np.shape(uX)    \n",
    "    nX = np.empty((N2, D))\n",
    "    for i in range(D):\n",
    "        nX[:, i] = (uX[:, i] - meansX[i])/stdX[i]\n",
    "    return nX    \n",
    "\n",
    "# We replace the missing values on each feature variable with the mean of the features before standardisation calling\n",
    "# the function set_missing_data\n",
    "data_val = set_missing_data(data_val_unproc, no_missing_means)        \n",
    "# We now standardise the validation data by calling the function set_standardisation\n",
    "nXVal = set_standardisation(data_val, meansX, stdX)\n",
    "# We set the targets and build the design matrix for the test data\n",
    "yVal = np.reshape((data_val.iloc[:, 0]).values, (Nval,1))\n",
    "XVal = np.concatenate((np.ones((Nval,1)), nXVal), axis=1)"
   ]
  },
  {
   "cell_type": "code",
   "execution_count": 12,
   "metadata": {},
   "outputs": [],
   "source": [
    "# CREATE THE GRID OF VALUES FOR GAMMA, ETA AND S\n",
    "num = 5\n",
    "gamma_vector = np.logspace(-3, -1, num)\n",
    "eta_vector = np.logspace(-3, -1, num)\n",
    "S_vector = np.linspace(50, 1000, num)"
   ]
  },
  {
   "cell_type": "code",
   "execution_count": 13,
   "metadata": {},
   "outputs": [],
   "source": [
    "# TRAIN THE REGULARISED LINEAR MODEL AND COMPUTE THE RMSE FOR ALL VALUES OF GAMMA, ETA AND S\n",
    "\n",
    "# D: number of features in the data + 1 (for the column of 1s in the training dataset)\n",
    "\n",
    "def sgd_optimiser(X, y, gamma, eta, S, N, D, max_iters):\n",
    "    w = np.random.normal(loc=0.0, scale=1.0, size= [D, 1])\n",
    "    for iters in range(max_iters):\n",
    "    # We first choose a random subset S of the available training set\n",
    "        index = np.random.permutation(N)\n",
    "        Xs = X[index[0:S], :]\n",
    "        ys = y[index[0:S], :]\n",
    "        gradient = -(2/S)*(Xs.T@ys) + (2/S)*(Xs.T@Xs@w) + gamma*w\n",
    "        w = w - eta*gradient\n",
    "    return w\n",
    "\n",
    "max_iters = 100\n",
    "D = np.size(XTrain, 1)\n",
    "rmse_val = np.empty([num, num, num])\n",
    "for i in range(num):\n",
    "    for j in range(num):\n",
    "        for k in range(num):\n",
    "            gamma = gamma_vector[i]\n",
    "            eta = eta_vector[j]\n",
    "            S = np.int64(np.floor(S_vector[k]))\n",
    "            w = sgd_optimiser(XTrain, yTrain, gamma, eta, S, N, D, max_iters)            \n",
    "            fVal = XVal@w\n",
    "            eVal = yVal - fVal\n",
    "            rmse_val[i, j, k] = np.sqrt(np.mean(eVal*eVal)) # Compute the MSE for all combinations \n",
    "best_params = np.argwhere(rmse_val == np.min(rmse_val))\n",
    "gamma = gamma_vector[best_params[0][0]]\n",
    "eta   = eta_vector[best_params[0][1]]\n",
    "S = np.int64(np.floor(S_vector[best_params[0][2]]))"
   ]
  },
  {
   "cell_type": "markdown",
   "metadata": {},
   "source": [
    "## 1.5 Test stage \n",
    "\n",
    "We now know which one is the best model, according to the validation data. We will now put together the training data and the validation data, perform the preprocessing as we did before, this is, treat the missing values and standardise the inputs. We will train the model again using the minibatch stochastic gradient descent and finally compute the RMSE over the test data.\n",
    "\n",
    "\n",
    "### Question 1.c: combine the original training and original validation data and perform the preprocessing again to this new data (2 marks)\n",
    "\n",
    "Put together the original training and validation dataset and perform the same preprocessing steps than before, these are: \n",
    "\n",
    "* for each feature, impute the missing values with the mean values of the non-missing values (**1 mark**) \n",
    "\n",
    "* stardardise the new training set (**1 mark**).\n",
    "\n",
    "#### Question 1.c Answer"
   ]
  },
  {
   "cell_type": "code",
   "execution_count": 14,
   "metadata": {},
   "outputs": [],
   "source": [
    "data_training_full = air_quality.iloc[index[0:N+Nval], :].copy() # Select the training data\n",
    "# We go again through the features replacing the missing values with the average of the no missing values.\n",
    "data_training_full, no_missing_means = get_stats_missing_data(data_training_full)\n",
    "# Standardisation\n",
    "nX2, meansX2, stdX2 = get_stats_standardisation(data_training_full)\n",
    "# Create the new training set\n",
    "Nfull = np.size(data_training_full, 0)\n",
    "yTrain2 = np.reshape((data_training_full.iloc[:, 0]).values, (Nfull,1)) # The traininig target labels\n",
    "XTrain2 = np.concatenate((np.ones((Nfull,1)), nX2), axis=1)         # The normalised inputs with an additional column vector  "
   ]
  },
  {
   "cell_type": "markdown",
   "metadata": {},
   "source": [
    "### Question 1.d: Preprocess the test data, train the model and predict over the test data (3 marks)\n",
    "\n",
    "Preprocess the test data and train a new model using the new training set. Finally, report the RMSE over the test set:\n",
    "\n",
    "* Preprocess the test data by imputing the missing data and standardising it (**1 mark**). \n",
    "\n",
    "* Use the best values of $\\gamma$, $\\eta$ and $S$ found in the validation set and train a new regularised linear model with stochastic gradient descent (**1 mark**)\n",
    "\n",
    "* Report the RMSE over the test data (**1 mark**)"
   ]
  },
  {
   "cell_type": "markdown",
   "metadata": {},
   "source": [
    "#### Preprocessing over the test data"
   ]
  },
  {
   "cell_type": "code",
   "execution_count": 15,
   "metadata": {},
   "outputs": [],
   "source": [
    "# Write your code here\n",
    "# PREPROCESSING THE TEST DATA\n",
    "# We replace the missing values on each feature variable with the mean of the features before standardisation\n",
    "data_test = set_missing_data(data_test_unproc, no_missing_means)      \n",
    "# We now standardise the test data\n",
    "nXTest = set_standardisation(data_test, meansX2, stdX2)\n",
    "# We set the targets and build the design matrix for the test data\n",
    "yTest = np.reshape((data_test.iloc[:, 0]).values, (Ntest,1))\n",
    "XTest = np.concatenate((np.ones((Ntest,1)), nXTest), axis=1)"
   ]
  },
  {
   "cell_type": "markdown",
   "metadata": {},
   "source": [
    "#### We train a linear regularised regression model using the best parameters we found on the validation set and compute the RMSE over the test data"
   ]
  },
  {
   "cell_type": "code",
   "execution_count": 16,
   "metadata": {},
   "outputs": [
    {
     "name": "stdout",
     "output_type": "stream",
     "text": [
      "The RMSE for ridge regression is: 0.5349058939440109\n"
     ]
    }
   ],
   "source": [
    "# TRAIN THE REGULARISED LINEAR MODEL AND COMPUTE THE RMSE FOR THE VALUE OF GAMMA, ETA AND S OVER THE TEST DATA\n",
    "max_iters = 100\n",
    "N2, D = np.shape(XTrain2)\n",
    "w = sgd_optimiser(XTrain2, yTrain2, gamma, eta, S, N2, D, max_iters) \n",
    "fTest = XTest@w\n",
    "eTest = yTest - fTest\n",
    "rmse_test = np.sqrt(np.mean(eTest*eTest)) # Compute the RMSE  \n",
    "print('The RMSE for ridge regression is:', rmse_test)"
   ]
  },
  {
   "cell_type": "markdown",
   "metadata": {},
   "source": [
    "# 2. Random forests (13 marks)\n",
    "\n",
    "**USE scikit-learn for the questions on this section.**\n",
    "\n",
    "In section 1, you used a regularised ridge regression model trained with SGD to create a linear predictive model. In this part of the assignment, you will use **scikit-learn** to train a random forest for regression over the air quality dataset.\n",
    "\n",
    "## 2.1 Preprocessing the data\n",
    "\n",
    "As mentioned before, the dataset has missing values tagged with a -200 value. Before doing any work with the training data, we want to make sure that we deal properly with the missing values. Furthermore, once we have dealt with the missing values, we want to standardise the training data. \n",
    "\n",
    "### Question 2.a: Pipeline for missing values and standardisation (3 marks)\n",
    "\n",
    "* Employ the `SimpleImputer` method in Scikit-learn to impute the missing values in each column using the mean value of the non-missing values, instead (**1 mark**).\n",
    "\n",
    "* Standardise the data by substracting the mean value for each feature and dividing the result by the standard deviation of each feature. Employ the `StandardScaler` method (**1 mark**).\n",
    "\n",
    "* Create a `Pipeline` that you can use to preprocess the data by filling missing values and then standardising the features (**1 mark**).\n",
    "\n",
    "#### Question 2.a Answer"
   ]
  },
  {
   "cell_type": "code",
   "execution_count": 18,
   "metadata": {},
   "outputs": [],
   "source": [
    "# Write your code here\n",
    "# WE FIRST IMPORT THE RELEVANT METHODS\n",
    "from sklearn.impute import SimpleImputer\n",
    "from sklearn.preprocessing import StandardScaler\n",
    "from sklearn.pipeline import Pipeline"
   ]
  },
  {
   "cell_type": "code",
   "execution_count": 19,
   "metadata": {},
   "outputs": [],
   "source": [
    "# WE CAN NOW CREATE THE PIPELINE\n",
    "preprocess = Pipeline([('imputer', SimpleImputer(missing_values=-200, strategy='mean')), \n",
    "                       ('scaler', StandardScaler())])"
   ]
  },
  {
   "cell_type": "markdown",
   "metadata": {},
   "source": [
    "### Question 2.b: Use the Pipeline to fit the training data and transform the validation data (2 marks)\n",
    "\n",
    "In the previous question, you created a `Pipeline` for applying a `SimpleImputer` and a `StandardScaler`. Use the Pipeline to fit the training data (**1 mark**) and transform the validation data (**1 mark**)."
   ]
  },
  {
   "cell_type": "code",
   "execution_count": 20,
   "metadata": {},
   "outputs": [],
   "source": [
    "# Write your code here\n",
    "# FIT THE TRANSFORMER TO THE TRAININIG DATA\n",
    "XTrain = data_training_unproc.iloc[:,1:ncols]\n",
    "XTrain_transformed = preprocess.fit_transform(XTrain)\n",
    "XVal = data_val_unproc.iloc[:,1:ncols]\n",
    "XVal_transformed = preprocess.transform(XVal)"
   ]
  },
  {
   "cell_type": "markdown",
   "metadata": {},
   "source": [
    "## 2.2 Random forest to predict air quality \n",
    "\n",
    "We now use random forests to predict air quality. Remember that the tree ensemble in random forests is built by training individual regression trees on different subsets of the training data and using a subset of the available features. For regression, the prediction is the average of the individual predictions of each tree. Some of the parameters required in the Random Forest implementation in Scikit-learn include:\n",
    "\n",
    "Some of the additional parameters required in the Random Forest implementation in Scikit-learn include\n",
    "\n",
    "> **n_estimators** the total number of trees to train<p>\n",
    "**max_features** number of features to use as candidates for splitting at each tree node. <p>\n",
    "    **boostrap**: Whether bootstrap samples are used when building trees. If False, the whole dataset is used to build each tree.<p>\n",
    "   **max_samples**: If bootstrap is True, the number of samples to draw from X to train each base estimator."
   ]
  },
  {
   "cell_type": "markdown",
   "metadata": {},
   "source": [
    "### Question 2.c: train a random forest (4 marks)\n",
    "\n",
    "In this question, you will train a random forest for predicting over the validation data. Use cross-validation over the validation data to select the best set of paramaters for the random forest regressor. Parameters to include in your exploration are **n_estimators**, **max_features** and **max_samples**. Use `np.linspace` or `np.logspace` to define ranges of values to explore for each parameter and create a grid to be assessed over the validation data. Make sure you use the same validation data that was given to you.\n",
    "\n",
    "* Use `PredefinedSplit` to tell the cross validator which instances to use for training and which ones for validation (**1 mark**).\n",
    "\n",
    "* Create a grid of values to explore that include a range of at least five values for each parameter **n_estimators**, **max_features** and **max_samples** (**1 mark**). \n",
    "\n",
    "* Train a random forest for regression model that uses the grid of parameters you created before. Use `GridSearchCV` to find the best set of parameters by performing cross-validation over the predefined split. (**1 mark**).\n",
    "\n",
    "* Print the best values in your grid for **n_estimators**, **max_features** and **max_samples** (**1 mark**)."
   ]
  },
  {
   "cell_type": "code",
   "execution_count": 21,
   "metadata": {},
   "outputs": [],
   "source": [
    "# Write your code here\n",
    "# PREDEFINED SPLIT\n",
    "from sklearn.model_selection import PredefinedSplit\n",
    "test_fold = np.zeros((N+Nval, 1))\n",
    "test_fold[0:N] = -1\n",
    "ps = PredefinedSplit(test_fold)\n",
    "# Concatenate the train and validation inputs and outputs\n",
    "XTrain_Val = np.vstack((XTrain, XVal))\n",
    "yTrain = np.reshape((data_training.iloc[:, 0]).values, (N,1)) \n",
    "yVal   = np.reshape((data_val.iloc[:, 0]).values, (Nval,1)) \n",
    "yTrain_Val = np.vstack((yTrain, yVal))"
   ]
  },
  {
   "cell_type": "code",
   "execution_count": 22,
   "metadata": {},
   "outputs": [],
   "source": [
    "# CREATE A GRID OF PARAMETER VALUES FOR n_estimators, max_features and max_samples\n",
    "n_features = np.size(XTrain_Val, 1)\n",
    "n_opts_feats = 5\n",
    "n_opts_ests = 5\n",
    "n_opts_samples = 5\n",
    "grid_features = np.int64(np.floor(np.linspace(1, n_features, n_opts_feats)))\n",
    "grid_estimators = np.int64(np.floor(np.linspace(10, 100, n_opts_ests)))\n",
    "grid_samples = np.linspace(0.1, 0.9, n_opts_samples)\n",
    "parameters = {'n_estimators': grid_estimators, 'max_features': grid_features, 'max_samples': grid_samples}"
   ]
  },
  {
   "cell_type": "code",
   "execution_count": 23,
   "metadata": {},
   "outputs": [
    {
     "data": {
      "text/plain": [
       "GridSearchCV(cv=PredefinedSplit(test_fold=array([-1, -1, ...,  0,  0])),\n",
       "             estimator=RandomForestRegressor(),\n",
       "             param_grid={'max_features': array([ 1,  3,  6,  8, 11], dtype=int64),\n",
       "                         'max_samples': array([0.1, 0.3, 0.5, 0.7, 0.9]),\n",
       "                         'n_estimators': array([ 10,  32,  55,  77, 100], dtype=int64)},\n",
       "             scoring='neg_mean_squared_error')"
      ]
     },
     "execution_count": 23,
     "metadata": {},
     "output_type": "execute_result"
    }
   ],
   "source": [
    "# TRAIN THE RANDOM FOREST FOR REGRESSION MODEL\n",
    "from sklearn.model_selection import GridSearchCV\n",
    "from sklearn.ensemble import RandomForestRegressor\n",
    "grid_regression = GridSearchCV(RandomForestRegressor(), \n",
    "                               param_grid=parameters, cv=ps, scoring='neg_mean_squared_error')\n",
    "grid_regression.fit(XTrain_Val, yTrain_Val.ravel())"
   ]
  },
  {
   "cell_type": "code",
   "execution_count": 24,
   "metadata": {},
   "outputs": [
    {
     "name": "stdout",
     "output_type": "stream",
     "text": [
      "Best n_estimator 100\n",
      "Best max features 6\n",
      "Best max samples 0.9\n"
     ]
    }
   ],
   "source": [
    "# PRINT THE BEST PARAMETERS\n",
    "best_n_estimators = grid_regression.best_params_['n_estimators']\n",
    "best_max_features = grid_regression.best_params_['max_features']\n",
    "best_max_samples = grid_regression.best_params_['max_samples']\n",
    "print('Best n_estimator', best_n_estimators)\n",
    "print('Best max features', best_max_features)\n",
    "print('Best max samples', best_max_samples)"
   ]
  },
  {
   "cell_type": "markdown",
   "metadata": {},
   "source": [
    "### Question 2.d: train a new model over the whole training data and report the prediction over the test set (4 marks)\n",
    "\n",
    "\n",
    "Now that we have identified the best paramaters of the regression model, we use these parameters to train a new model over the whole training data (`data_training` plus `data_val`). We apply this model to the test set and report the performance.\n",
    "\n",
    "* Create a new preprocessing pipeline for taking care of the missing values and standardisation over the whole training data (**1 mark**)\n",
    "\n",
    "* Apply the created preprocessing pipeline to the test data (**1 mark**)\n",
    "\n",
    "* Fit a random forest regression model to the training data using the best parameters found in Question 2.c (**1 mark**)\n",
    "\n",
    "* Compute the RMSE over the test data and report the result (**1 mark**)"
   ]
  },
  {
   "cell_type": "code",
   "execution_count": 25,
   "metadata": {},
   "outputs": [],
   "source": [
    "# Write your code here\n",
    "# PREPROCESSING PIPELINE OVER THE WHOLE TRAINING DATA\n",
    "data_training_full = air_quality.iloc[index[0:N+Nval], :].copy() # Select the training data\n",
    "XTrainFull = data_training_full.iloc[:,1:ncols]\n",
    "XTrainFull_transformed = preprocess.fit_transform(XTrainFull)\n",
    "yTrainFull = data_training_full.iloc[:,0]"
   ]
  },
  {
   "cell_type": "code",
   "execution_count": 26,
   "metadata": {},
   "outputs": [],
   "source": [
    "# APPLY THE PIPELINE TO THE TEST DATA\n",
    "XTest = data_test_unproc.iloc[:,1:ncols]\n",
    "XTest_transformed = preprocess.transform(XTest)"
   ]
  },
  {
   "cell_type": "code",
   "execution_count": 27,
   "metadata": {},
   "outputs": [],
   "source": [
    "# FIR THE RANDOM FOREST REGRESSION MODEL\n",
    "rforest_reg = RandomForestRegressor(n_estimators= best_n_estimators, max_features= best_max_features, \n",
    "                                    max_samples= best_max_samples)\n",
    "trained_model = rforest_reg.fit(XTrainFull_transformed, yTrainFull)"
   ]
  },
  {
   "cell_type": "code",
   "execution_count": 28,
   "metadata": {},
   "outputs": [
    {
     "name": "stdout",
     "output_type": "stream",
     "text": [
      "The RMSE for random forest regression is: 0.40823485531749426\n"
     ]
    }
   ],
   "source": [
    "# PREDICT OVER THE TEST DATA\n",
    "pred_rfr = trained_model.predict(XTest_transformed)\n",
    "yTest2 = data_test.iloc[:,0]\n",
    "eTest = yTest2 - pred_rfr\n",
    "rmse_test = np.sqrt(np.mean(eTest*eTest)) # Compute the RMSE \n",
    "print('The RMSE for random forest regression is:', rmse_test)"
   ]
  }
 ],
 "metadata": {
  "kernelspec": {
   "display_name": "Python 3.8.2 ('base')",
   "language": "python",
   "name": "python3"
  },
  "language_info": {
   "codemirror_mode": {
    "name": "ipython",
    "version": 3
   },
   "file_extension": ".py",
   "mimetype": "text/x-python",
   "name": "python",
   "nbconvert_exporter": "python",
   "pygments_lexer": "ipython3",
   "version": "3.8.2"
  },
  "vscode": {
   "interpreter": {
    "hash": "12685bb311716c36654bdbac1ae71e63070167e2e04c97a1a9beff30187a4154"
   }
  }
 },
 "nbformat": 4,
 "nbformat_minor": 4
}
