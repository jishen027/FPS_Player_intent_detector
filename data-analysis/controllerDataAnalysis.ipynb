{
 "cells": [
  {
   "cell_type": "code",
   "execution_count": 1,
   "metadata": {},
   "outputs": [],
   "source": [
    "import pandas as pd\n",
    "import matplotlib.pyplot as plt\n",
    "import numpy as np"
   ]
  },
  {
   "cell_type": "code",
   "execution_count": 2,
   "metadata": {},
   "outputs": [
    {
     "data": {
      "text/plain": [
       "(2378, 5)"
      ]
     },
     "execution_count": 2,
     "metadata": {},
     "output_type": "execute_result"
    }
   ],
   "source": [
    "df = pd.read_csv('./data/ControllerData-ver0.6.csv')\n",
    "df.shape\n"
   ]
  },
  {
   "cell_type": "code",
   "execution_count": 3,
   "metadata": {},
   "outputs": [
    {
     "data": {
      "text/html": [
       "<div>\n",
       "<style scoped>\n",
       "    .dataframe tbody tr th:only-of-type {\n",
       "        vertical-align: middle;\n",
       "    }\n",
       "\n",
       "    .dataframe tbody tr th {\n",
       "        vertical-align: top;\n",
       "    }\n",
       "\n",
       "    .dataframe thead th {\n",
       "        text-align: right;\n",
       "    }\n",
       "</style>\n",
       "<table border=\"1\" class=\"dataframe\">\n",
       "  <thead>\n",
       "    <tr style=\"text-align: right;\">\n",
       "      <th></th>\n",
       "      <th>x</th>\n",
       "      <th>y</th>\n",
       "      <th>rx</th>\n",
       "      <th>ry</th>\n",
       "      <th>type</th>\n",
       "    </tr>\n",
       "  </thead>\n",
       "  <tbody>\n",
       "    <tr>\n",
       "      <th>1367</th>\n",
       "      <td>0.075903</td>\n",
       "      <td>-0.222121</td>\n",
       "      <td>-0.018845</td>\n",
       "      <td>-0.085283</td>\n",
       "      <td>0</td>\n",
       "    </tr>\n",
       "    <tr>\n",
       "      <th>1277</th>\n",
       "      <td>-0.017330</td>\n",
       "      <td>0.483509</td>\n",
       "      <td>-1.000000</td>\n",
       "      <td>0.050969</td>\n",
       "      <td>1</td>\n",
       "    </tr>\n",
       "    <tr>\n",
       "      <th>1589</th>\n",
       "      <td>0.110024</td>\n",
       "      <td>0.345416</td>\n",
       "      <td>0.006485</td>\n",
       "      <td>0.057816</td>\n",
       "      <td>0</td>\n",
       "    </tr>\n",
       "    <tr>\n",
       "      <th>317</th>\n",
       "      <td>0.134559</td>\n",
       "      <td>0.458086</td>\n",
       "      <td>-0.776250</td>\n",
       "      <td>-0.593917</td>\n",
       "      <td>1</td>\n",
       "    </tr>\n",
       "    <tr>\n",
       "      <th>2105</th>\n",
       "      <td>0.009963</td>\n",
       "      <td>-0.263542</td>\n",
       "      <td>-0.979526</td>\n",
       "      <td>0.208490</td>\n",
       "      <td>1</td>\n",
       "    </tr>\n",
       "    <tr>\n",
       "      <th>298</th>\n",
       "      <td>0.149512</td>\n",
       "      <td>0.120640</td>\n",
       "      <td>-0.459968</td>\n",
       "      <td>0.771950</td>\n",
       "      <td>1</td>\n",
       "    </tr>\n",
       "    <tr>\n",
       "      <th>1455</th>\n",
       "      <td>-0.273762</td>\n",
       "      <td>0.028494</td>\n",
       "      <td>-0.411693</td>\n",
       "      <td>-0.208918</td>\n",
       "      <td>1</td>\n",
       "    </tr>\n",
       "    <tr>\n",
       "      <th>2268</th>\n",
       "      <td>-0.088646</td>\n",
       "      <td>-0.455445</td>\n",
       "      <td>-0.756902</td>\n",
       "      <td>0.830777</td>\n",
       "      <td>1</td>\n",
       "    </tr>\n",
       "    <tr>\n",
       "      <th>1428</th>\n",
       "      <td>-0.107831</td>\n",
       "      <td>-0.286951</td>\n",
       "      <td>-0.019584</td>\n",
       "      <td>0.114631</td>\n",
       "      <td>0</td>\n",
       "    </tr>\n",
       "    <tr>\n",
       "      <th>1341</th>\n",
       "      <td>-0.032007</td>\n",
       "      <td>-0.506801</td>\n",
       "      <td>-0.678795</td>\n",
       "      <td>0.612539</td>\n",
       "      <td>1</td>\n",
       "    </tr>\n",
       "  </tbody>\n",
       "</table>\n",
       "</div>"
      ],
      "text/plain": [
       "             x         y        rx        ry  type\n",
       "1367  0.075903 -0.222121 -0.018845 -0.085283     0\n",
       "1277 -0.017330  0.483509 -1.000000  0.050969     1\n",
       "1589  0.110024  0.345416  0.006485  0.057816     0\n",
       "317   0.134559  0.458086 -0.776250 -0.593917     1\n",
       "2105  0.009963 -0.263542 -0.979526  0.208490     1\n",
       "298   0.149512  0.120640 -0.459968  0.771950     1\n",
       "1455 -0.273762  0.028494 -0.411693 -0.208918     1\n",
       "2268 -0.088646 -0.455445 -0.756902  0.830777     1\n",
       "1428 -0.107831 -0.286951 -0.019584  0.114631     0\n",
       "1341 -0.032007 -0.506801 -0.678795  0.612539     1"
      ]
     },
     "execution_count": 3,
     "metadata": {},
     "output_type": "execute_result"
    }
   ],
   "source": [
    "df.sample(10)"
   ]
  },
  {
   "cell_type": "code",
   "execution_count": 4,
   "metadata": {},
   "outputs": [
    {
     "data": {
      "text/html": [
       "<div>\n",
       "<style scoped>\n",
       "    .dataframe tbody tr th:only-of-type {\n",
       "        vertical-align: middle;\n",
       "    }\n",
       "\n",
       "    .dataframe tbody tr th {\n",
       "        vertical-align: top;\n",
       "    }\n",
       "\n",
       "    .dataframe thead th {\n",
       "        text-align: right;\n",
       "    }\n",
       "</style>\n",
       "<table border=\"1\" class=\"dataframe\">\n",
       "  <thead>\n",
       "    <tr style=\"text-align: right;\">\n",
       "      <th></th>\n",
       "      <th>x</th>\n",
       "      <th>y</th>\n",
       "      <th>rx</th>\n",
       "      <th>ry</th>\n",
       "      <th>type</th>\n",
       "    </tr>\n",
       "  </thead>\n",
       "  <tbody>\n",
       "    <tr>\n",
       "      <th>0</th>\n",
       "      <td>0.187561</td>\n",
       "      <td>0.207756</td>\n",
       "      <td>0.057475</td>\n",
       "      <td>0.000381</td>\n",
       "      <td>0</td>\n",
       "    </tr>\n",
       "    <tr>\n",
       "      <th>1</th>\n",
       "      <td>-0.088399</td>\n",
       "      <td>-0.470748</td>\n",
       "      <td>-0.418196</td>\n",
       "      <td>-0.490245</td>\n",
       "      <td>1</td>\n",
       "    </tr>\n",
       "    <tr>\n",
       "      <th>2</th>\n",
       "      <td>0.091014</td>\n",
       "      <td>0.566188</td>\n",
       "      <td>-0.035721</td>\n",
       "      <td>0.298834</td>\n",
       "      <td>1</td>\n",
       "    </tr>\n",
       "    <tr>\n",
       "      <th>3</th>\n",
       "      <td>-0.438049</td>\n",
       "      <td>-0.225483</td>\n",
       "      <td>0.284041</td>\n",
       "      <td>0.863913</td>\n",
       "      <td>1</td>\n",
       "    </tr>\n",
       "    <tr>\n",
       "      <th>4</th>\n",
       "      <td>-0.006805</td>\n",
       "      <td>0.663217</td>\n",
       "      <td>-0.090068</td>\n",
       "      <td>-0.156803</td>\n",
       "      <td>1</td>\n",
       "    </tr>\n",
       "    <tr>\n",
       "      <th>...</th>\n",
       "      <td>...</td>\n",
       "      <td>...</td>\n",
       "      <td>...</td>\n",
       "      <td>...</td>\n",
       "      <td>...</td>\n",
       "    </tr>\n",
       "    <tr>\n",
       "      <th>2373</th>\n",
       "      <td>-0.002405</td>\n",
       "      <td>0.767290</td>\n",
       "      <td>0.001297</td>\n",
       "      <td>0.006294</td>\n",
       "      <td>1</td>\n",
       "    </tr>\n",
       "    <tr>\n",
       "      <th>2374</th>\n",
       "      <td>0.167220</td>\n",
       "      <td>0.504894</td>\n",
       "      <td>-0.972325</td>\n",
       "      <td>-0.145125</td>\n",
       "      <td>1</td>\n",
       "    </tr>\n",
       "    <tr>\n",
       "      <th>2375</th>\n",
       "      <td>0.081865</td>\n",
       "      <td>0.800006</td>\n",
       "      <td>-0.819878</td>\n",
       "      <td>-0.359995</td>\n",
       "      <td>1</td>\n",
       "    </tr>\n",
       "    <tr>\n",
       "      <th>2376</th>\n",
       "      <td>-0.080982</td>\n",
       "      <td>-0.506141</td>\n",
       "      <td>-0.798677</td>\n",
       "      <td>0.750027</td>\n",
       "      <td>1</td>\n",
       "    </tr>\n",
       "    <tr>\n",
       "      <th>2377</th>\n",
       "      <td>-0.013209</td>\n",
       "      <td>0.435019</td>\n",
       "      <td>-0.801237</td>\n",
       "      <td>-0.603772</td>\n",
       "      <td>1</td>\n",
       "    </tr>\n",
       "  </tbody>\n",
       "</table>\n",
       "<p>2378 rows × 5 columns</p>\n",
       "</div>"
      ],
      "text/plain": [
       "             x         y        rx        ry  type\n",
       "0     0.187561  0.207756  0.057475  0.000381     0\n",
       "1    -0.088399 -0.470748 -0.418196 -0.490245     1\n",
       "2     0.091014  0.566188 -0.035721  0.298834     1\n",
       "3    -0.438049 -0.225483  0.284041  0.863913     1\n",
       "4    -0.006805  0.663217 -0.090068 -0.156803     1\n",
       "...        ...       ...       ...       ...   ...\n",
       "2373 -0.002405  0.767290  0.001297  0.006294     1\n",
       "2374  0.167220  0.504894 -0.972325 -0.145125     1\n",
       "2375  0.081865  0.800006 -0.819878 -0.359995     1\n",
       "2376 -0.080982 -0.506141 -0.798677  0.750027     1\n",
       "2377 -0.013209  0.435019 -0.801237 -0.603772     1\n",
       "\n",
       "[2378 rows x 5 columns]"
      ]
     },
     "execution_count": 4,
     "metadata": {},
     "output_type": "execute_result"
    }
   ],
   "source": [
    "df.dropna(axis=0, how='any')"
   ]
  },
  {
   "cell_type": "code",
   "execution_count": 5,
   "metadata": {},
   "outputs": [],
   "source": [
    "df1 = df.copy()"
   ]
  },
  {
   "cell_type": "code",
   "execution_count": 6,
   "metadata": {},
   "outputs": [],
   "source": [
    "df1 = df1.round(4)"
   ]
  },
  {
   "cell_type": "code",
   "execution_count": 7,
   "metadata": {},
   "outputs": [],
   "source": [
    "df1 = df1.dropna(axis=0, how='any')\n"
   ]
  },
  {
   "cell_type": "code",
   "execution_count": 8,
   "metadata": {},
   "outputs": [
    {
     "data": {
      "text/html": [
       "<div>\n",
       "<style scoped>\n",
       "    .dataframe tbody tr th:only-of-type {\n",
       "        vertical-align: middle;\n",
       "    }\n",
       "\n",
       "    .dataframe tbody tr th {\n",
       "        vertical-align: top;\n",
       "    }\n",
       "\n",
       "    .dataframe thead th {\n",
       "        text-align: right;\n",
       "    }\n",
       "</style>\n",
       "<table border=\"1\" class=\"dataframe\">\n",
       "  <thead>\n",
       "    <tr style=\"text-align: right;\">\n",
       "      <th></th>\n",
       "      <th>x</th>\n",
       "      <th>y</th>\n",
       "      <th>rx</th>\n",
       "      <th>ry</th>\n",
       "      <th>type</th>\n",
       "    </tr>\n",
       "  </thead>\n",
       "  <tbody>\n",
       "    <tr>\n",
       "      <th>1217</th>\n",
       "      <td>0.1141</td>\n",
       "      <td>0.2535</td>\n",
       "      <td>-0.3094</td>\n",
       "      <td>-0.3143</td>\n",
       "      <td>0</td>\n",
       "    </tr>\n",
       "    <tr>\n",
       "      <th>480</th>\n",
       "      <td>-0.0609</td>\n",
       "      <td>-0.2280</td>\n",
       "      <td>0.0259</td>\n",
       "      <td>0.0335</td>\n",
       "      <td>0</td>\n",
       "    </tr>\n",
       "    <tr>\n",
       "      <th>1970</th>\n",
       "      <td>0.0070</td>\n",
       "      <td>-0.3861</td>\n",
       "      <td>0.0223</td>\n",
       "      <td>0.0510</td>\n",
       "      <td>0</td>\n",
       "    </tr>\n",
       "    <tr>\n",
       "      <th>10</th>\n",
       "      <td>0.0055</td>\n",
       "      <td>0.6036</td>\n",
       "      <td>-0.0656</td>\n",
       "      <td>0.0889</td>\n",
       "      <td>0</td>\n",
       "    </tr>\n",
       "    <tr>\n",
       "      <th>1993</th>\n",
       "      <td>-0.0004</td>\n",
       "      <td>-0.2935</td>\n",
       "      <td>-0.0281</td>\n",
       "      <td>-0.0469</td>\n",
       "      <td>0</td>\n",
       "    </tr>\n",
       "    <tr>\n",
       "      <th>654</th>\n",
       "      <td>-0.1067</td>\n",
       "      <td>0.4502</td>\n",
       "      <td>-0.4364</td>\n",
       "      <td>-0.3174</td>\n",
       "      <td>0</td>\n",
       "    </tr>\n",
       "    <tr>\n",
       "      <th>2010</th>\n",
       "      <td>0.0739</td>\n",
       "      <td>0.2245</td>\n",
       "      <td>-0.1433</td>\n",
       "      <td>-0.1976</td>\n",
       "      <td>0</td>\n",
       "    </tr>\n",
       "    <tr>\n",
       "      <th>1856</th>\n",
       "      <td>-0.0115</td>\n",
       "      <td>-0.2623</td>\n",
       "      <td>-0.0801</td>\n",
       "      <td>0.0063</td>\n",
       "      <td>0</td>\n",
       "    </tr>\n",
       "    <tr>\n",
       "      <th>907</th>\n",
       "      <td>0.0085</td>\n",
       "      <td>0.2207</td>\n",
       "      <td>-0.2446</td>\n",
       "      <td>-0.4463</td>\n",
       "      <td>0</td>\n",
       "    </tr>\n",
       "    <tr>\n",
       "      <th>1557</th>\n",
       "      <td>0.0077</td>\n",
       "      <td>0.3883</td>\n",
       "      <td>0.0984</td>\n",
       "      <td>-0.0854</td>\n",
       "      <td>0</td>\n",
       "    </tr>\n",
       "    <tr>\n",
       "      <th>185</th>\n",
       "      <td>-0.1236</td>\n",
       "      <td>0.0511</td>\n",
       "      <td>0.0298</td>\n",
       "      <td>-0.0110</td>\n",
       "      <td>0</td>\n",
       "    </tr>\n",
       "    <tr>\n",
       "      <th>900</th>\n",
       "      <td>0.1456</td>\n",
       "      <td>0.1958</td>\n",
       "      <td>0.0035</td>\n",
       "      <td>-0.0035</td>\n",
       "      <td>0</td>\n",
       "    </tr>\n",
       "    <tr>\n",
       "      <th>2214</th>\n",
       "      <td>0.1971</td>\n",
       "      <td>-0.1832</td>\n",
       "      <td>-1.0000</td>\n",
       "      <td>-0.2464</td>\n",
       "      <td>0</td>\n",
       "    </tr>\n",
       "    <tr>\n",
       "      <th>1108</th>\n",
       "      <td>0.2668</td>\n",
       "      <td>-0.2040</td>\n",
       "      <td>0.0993</td>\n",
       "      <td>-0.0310</td>\n",
       "      <td>0</td>\n",
       "    </tr>\n",
       "    <tr>\n",
       "      <th>857</th>\n",
       "      <td>-0.0723</td>\n",
       "      <td>0.2566</td>\n",
       "      <td>-0.3655</td>\n",
       "      <td>-0.1659</td>\n",
       "      <td>0</td>\n",
       "    </tr>\n",
       "    <tr>\n",
       "      <th>768</th>\n",
       "      <td>0.0762</td>\n",
       "      <td>-0.1964</td>\n",
       "      <td>0.0746</td>\n",
       "      <td>0.0529</td>\n",
       "      <td>0</td>\n",
       "    </tr>\n",
       "    <tr>\n",
       "      <th>736</th>\n",
       "      <td>-0.0994</td>\n",
       "      <td>-0.3441</td>\n",
       "      <td>-0.2365</td>\n",
       "      <td>0.2366</td>\n",
       "      <td>0</td>\n",
       "    </tr>\n",
       "    <tr>\n",
       "      <th>2283</th>\n",
       "      <td>-0.1119</td>\n",
       "      <td>-0.3562</td>\n",
       "      <td>-0.2628</td>\n",
       "      <td>0.4298</td>\n",
       "      <td>0</td>\n",
       "    </tr>\n",
       "    <tr>\n",
       "      <th>2111</th>\n",
       "      <td>0.0215</td>\n",
       "      <td>0.3437</td>\n",
       "      <td>-0.0077</td>\n",
       "      <td>-0.1005</td>\n",
       "      <td>0</td>\n",
       "    </tr>\n",
       "    <tr>\n",
       "      <th>1053</th>\n",
       "      <td>-0.1081</td>\n",
       "      <td>-0.0580</td>\n",
       "      <td>-0.2443</td>\n",
       "      <td>-0.1151</td>\n",
       "      <td>0</td>\n",
       "    </tr>\n",
       "  </tbody>\n",
       "</table>\n",
       "</div>"
      ],
      "text/plain": [
       "           x       y      rx      ry  type\n",
       "1217  0.1141  0.2535 -0.3094 -0.3143     0\n",
       "480  -0.0609 -0.2280  0.0259  0.0335     0\n",
       "1970  0.0070 -0.3861  0.0223  0.0510     0\n",
       "10    0.0055  0.6036 -0.0656  0.0889     0\n",
       "1993 -0.0004 -0.2935 -0.0281 -0.0469     0\n",
       "654  -0.1067  0.4502 -0.4364 -0.3174     0\n",
       "2010  0.0739  0.2245 -0.1433 -0.1976     0\n",
       "1856 -0.0115 -0.2623 -0.0801  0.0063     0\n",
       "907   0.0085  0.2207 -0.2446 -0.4463     0\n",
       "1557  0.0077  0.3883  0.0984 -0.0854     0\n",
       "185  -0.1236  0.0511  0.0298 -0.0110     0\n",
       "900   0.1456  0.1958  0.0035 -0.0035     0\n",
       "2214  0.1971 -0.1832 -1.0000 -0.2464     0\n",
       "1108  0.2668 -0.2040  0.0993 -0.0310     0\n",
       "857  -0.0723  0.2566 -0.3655 -0.1659     0\n",
       "768   0.0762 -0.1964  0.0746  0.0529     0\n",
       "736  -0.0994 -0.3441 -0.2365  0.2366     0\n",
       "2283 -0.1119 -0.3562 -0.2628  0.4298     0\n",
       "2111  0.0215  0.3437 -0.0077 -0.1005     0\n",
       "1053 -0.1081 -0.0580 -0.2443 -0.1151     0"
      ]
     },
     "execution_count": 8,
     "metadata": {},
     "output_type": "execute_result"
    }
   ],
   "source": [
    "data_1 = df1.loc[df1['type'] == 1]\n",
    "data_2 = df1.loc[df1['type'] == 0]\n",
    "data_2.sample(20)"
   ]
  },
  {
   "cell_type": "code",
   "execution_count": 47,
   "metadata": {},
   "outputs": [
    {
     "data": {
      "image/png": "[encoded data removed]",
      "text/plain": [
       "<Figure size 432x288 with 1 Axes>"
      ]
     },
     "metadata": {
      "needs_background": "light"
     },
     "output_type": "display_data"
    }
   ],
   "source": [
    "from cProfile import label\n",
    "from turtle import color\n",
    "\n",
    "X_data_1 = pd.DataFrame(data_1, columns=['x'])\n",
    "Y_data_1 = pd.DataFrame(data_1, columns=['y'])\n",
    "X_data_2 = pd.DataFrame(data_2, columns=['x'])\n",
    "Y_data_2 = pd.DataFrame(data_2, columns=['y'])\n",
    "plt.title(\"Right-Thumbstick\")\n",
    "plt.scatter(X_data_1[:1000], Y_data_1[:1000], color='red', label='Moving')\n",
    "plt.scatter(X_data_2[:1000], Y_data_2[:1000], color='blue', label='Aiming')\n",
    "plt.xlim(-1.1, 1.1)\n",
    "plt.ylim(-1.1, 1.1)\n",
    "plt.legend(loc='upper right')\n",
    "plt.show()"
   ]
  },
  {
   "cell_type": "code",
   "execution_count": 48,
   "metadata": {},
   "outputs": [
    {
     "data": {
      "image/png": "[encoded data removed]",
      "text/plain": [
       "<Figure size 432x288 with 1 Axes>"
      ]
     },
     "metadata": {
      "needs_background": "light"
     },
     "output_type": "display_data"
    }
   ],
   "source": [
    "RX_data_1 = pd.DataFrame(data_1, columns=['rx'])\n",
    "RY_data_1 = pd.DataFrame(data_1, columns=['ry'])\n",
    "RX_data_2 = pd.DataFrame(data_2, columns=['rx'])\n",
    "RY_data_2 = pd.DataFrame(data_2, columns=['ry'])\n",
    "plt.title(\"Left-Thumbstick\")\n",
    "plt.scatter(RX_data_1[:1000], RY_data_1[:1000], color='red', label = 'Moving')\n",
    "plt.scatter(RX_data_2[:1000], RY_data_2[:1000], color='blue', label = 'Aiming')\n",
    "plt.xlim(-1.1, 1.1)\n",
    "plt.ylim(-1.1, 1.1)\n",
    "plt.xlabel(\"X\")\n",
    "plt.ylabel(\"Y\")\n",
    "plt.legend(loc='upper right')\n",
    "plt.show()"
   ]
  },
  {
   "cell_type": "code",
   "execution_count": 11,
   "metadata": {},
   "outputs": [],
   "source": [
    "df_X = df1.loc[:, ['x', 'y', 'rx', 'ry']]\n",
    "df_y = df1.type"
   ]
  },
  {
   "cell_type": "code",
   "execution_count": 12,
   "metadata": {},
   "outputs": [
    {
     "data": {
      "text/plain": [
       "0       0\n",
       "1       1\n",
       "2       1\n",
       "3       1\n",
       "4       1\n",
       "       ..\n",
       "2373    1\n",
       "2374    1\n",
       "2375    1\n",
       "2376    1\n",
       "2377    1\n",
       "Name: type, Length: 2378, dtype: int64"
      ]
     },
     "execution_count": 12,
     "metadata": {},
     "output_type": "execute_result"
    }
   ],
   "source": [
    "df_y"
   ]
  },
  {
   "cell_type": "code",
   "execution_count": 13,
   "metadata": {},
   "outputs": [],
   "source": [
    "from sklearn.model_selection import train_test_split\n",
    "from sklearn.metrics import f1_score\n",
    "from sklearn.metrics import precision_score, accuracy_score\n",
    "from sklearn.metrics import recall_score\n",
    "\n",
    "X_train, X_test, y_train, y_test = train_test_split(df_X, df_y, random_state=123)"
   ]
  },
  {
   "cell_type": "code",
   "execution_count": 14,
   "metadata": {},
   "outputs": [
    {
     "name": "stdout",
     "output_type": "stream",
     "text": [
      "0.820527201346046\n",
      "0.8252100840336134\n"
     ]
    }
   ],
   "source": [
    "from sklearn.linear_model import LogisticRegression\n",
    "log_reg = LogisticRegression()\n",
    "log_reg.fit(X_train, y_train)\n",
    "print(log_reg.score(X_train, y_train))\n",
    "print(log_reg.score(X_test, y_test))"
   ]
  },
  {
   "cell_type": "code",
   "execution_count": 15,
   "metadata": {},
   "outputs": [
    {
     "name": "stdout",
     "output_type": "stream",
     "text": [
      "0.8850252383623107\n",
      "0.8957983193277311\n",
      "+++++++++++++++++\n",
      "accuracy:  0.8957983193277311\n",
      "pricision:  0.9364161849710982\n",
      "recall:  0.9436893203883495\n",
      "f1:  0.9400386847195358\n"
     ]
    }
   ],
   "source": [
    "from sklearn.preprocessing import PolynomialFeatures\n",
    "from sklearn.pipeline import Pipeline\n",
    "\n",
    "def PolynomialLogisticRegression(degree):\n",
    "  return Pipeline([\n",
    "    ('poly', PolynomialFeatures(degree=degree)),\n",
    "    ('log_reg', LogisticRegression())\n",
    "  ])\n",
    "\n",
    "poly_log_reg = PolynomialLogisticRegression(2)\n",
    "poly_log_reg.fit(X_train, y_train)\n",
    "print(poly_log_reg.score(X_train, y_train))\n",
    "print(poly_log_reg.score(X_test, y_test))\n",
    "\n",
    "print('+++++++++++++++++')\n",
    "y_predict = poly_log_reg.predict(X_test)\n",
    "print(\"accuracy: \", accuracy_score(y_test, y_predict))\n",
    "print(\"pricision: \", precision_score(y_test, y_predict))\n",
    "print(\"recall: \", recall_score(y_test, y_predict))\n",
    "print(\"f1: \",f1_score(y_test, y_predict))\n",
    "\n"
   ]
  },
  {
   "cell_type": "code",
   "execution_count": 16,
   "metadata": {},
   "outputs": [
    {
     "name": "stdout",
     "output_type": "stream",
     "text": [
      "0.8418395961862031\n",
      "0.865546218487395\n"
     ]
    }
   ],
   "source": [
    "from sklearn.linear_model import SGDClassifier\n",
    "\n",
    "sgdc = SGDClassifier(loss='hinge', penalty='elasticnet')\n",
    "sgdc.fit(X_train, y_train)\n",
    "print(sgdc.score(X_train, y_train))\n",
    "print(sgdc.score(X_test, y_test))"
   ]
  },
  {
   "cell_type": "code",
   "execution_count": 17,
   "metadata": {},
   "outputs": [
    {
     "name": "stdout",
     "output_type": "stream",
     "text": [
      "0.8850252383623107\n",
      "0.880672268907563\n",
      "+++++++++++++++++++++++++++++\n",
      "precision:  0.9457831325301205\n",
      "recall:  0.9145631067961165\n",
      "f1:  0.9299111549851925\n"
     ]
    }
   ],
   "source": [
    "from sklearn.svm import SVC\n",
    "\n",
    "svc = SVC()\n",
    "svc.fit(X_train, y_train)\n",
    "print(svc.score(X_train, y_train))\n",
    "print(svc.score(X_test, y_test))\n",
    "print(\"+++++++++++++++++++++++++++++\")\n",
    "y_predict = svc.predict(X_test)\n",
    "print(\"precision: \", precision_score(y_test, y_predict))\n",
    "print(\"recall: \", recall_score(y_test, y_predict))\n",
    "print(\"f1: \", f1_score(y_test, y_predict))"
   ]
  },
  {
   "cell_type": "code",
   "execution_count": 18,
   "metadata": {},
   "outputs": [
    {
     "data": {
      "text/plain": [
       "array([1.5673892])"
      ]
     },
     "execution_count": 18,
     "metadata": {},
     "output_type": "execute_result"
    }
   ],
   "source": [
    "svc.intercept_"
   ]
  },
  {
   "cell_type": "code",
   "execution_count": 19,
   "metadata": {},
   "outputs": [],
   "source": [
    "import pickle\n",
    "pickle.dump(svc, open('svc_model', 'wb'))"
   ]
  },
  {
   "cell_type": "code",
   "execution_count": 20,
   "metadata": {},
   "outputs": [],
   "source": [
    "pickle.dump(log_reg, open('log_reg', 'wb'))"
   ]
  },
  {
   "cell_type": "code",
   "execution_count": 21,
   "metadata": {},
   "outputs": [],
   "source": [
    "pickle.dump(poly_log_reg, open('poly_log_reg.pkl', 'wb'))"
   ]
  },
  {
   "cell_type": "code",
   "execution_count": 22,
   "metadata": {},
   "outputs": [
    {
     "data": {
      "text/plain": [
       "['poly_log_reg.joblib']"
      ]
     },
     "execution_count": 22,
     "metadata": {},
     "output_type": "execute_result"
    }
   ],
   "source": [
    "from joblib import dump\n",
    "dump(poly_log_reg, 'poly_log_reg.joblib')"
   ]
  },
  {
   "cell_type": "code",
   "execution_count": 23,
   "metadata": {},
   "outputs": [
    {
     "name": "stdout",
     "output_type": "stream",
     "text": [
      "precision:  0.9457831325301205\n"
     ]
    }
   ],
   "source": [
    "model = pickle.load(open('svc_model', 'rb'))\n",
    "y = model.predict(X_test)\n",
    "print(\"precision: \", precision_score(y_test, y))"
   ]
  },
  {
   "cell_type": "code",
   "execution_count": 24,
   "metadata": {},
   "outputs": [
    {
     "name": "stderr",
     "output_type": "stream",
     "text": [
      "/Users/khalillee/opt/anaconda3/lib/python3.8/site-packages/sklearn/base.py:450: UserWarning: X does not have valid feature names, but SVC was fitted with feature names\n",
      "  warnings.warn(\n"
     ]
    },
    {
     "data": {
      "text/plain": [
       "array([0])"
      ]
     },
     "execution_count": 24,
     "metadata": {},
     "output_type": "execute_result"
    }
   ],
   "source": [
    "model.predict([[\"0.11008091156299298\",\"0.40200244463407075\",\"0.05479982724556556\",\"-0.042620798716178306\"]])\n"
   ]
  }
 ],
 "metadata": {
  "kernelspec": {
   "display_name": "Python 3.8.13 ('base')",
   "language": "python",
   "name": "python3"
  },
  "language_info": {
   "codemirror_mode": {
    "name": "ipython",
    "version": 3
   },
   "file_extension": ".py",
   "mimetype": "text/x-python",
   "name": "python",
   "nbconvert_exporter": "python",
   "pygments_lexer": "ipython3",
   "version": "3.8.13"
  },
  "orig_nbformat": 4,
  "vscode": {
   "interpreter": {
    "hash": "12685bb311716c36654bdbac1ae71e63070167e2e04c97a1a9beff30187a4154"
   }
  }
 },
 "nbformat": 4,
 "nbformat_minor": 2
}
