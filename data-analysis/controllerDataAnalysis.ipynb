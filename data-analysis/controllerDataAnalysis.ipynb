{
 "cells": [
  {
   "cell_type": "code",
   "execution_count": 1,
   "metadata": {},
   "outputs": [],
   "source": [
    "import pandas as pd\n",
    "import matplotlib.pyplot as plt\n",
    "import numpy as np"
   ]
  },
  {
   "cell_type": "code",
   "execution_count": 2,
   "metadata": {},
   "outputs": [
    {
     "data": {
      "text/plain": [
       "(1163, 5)"
      ]
     },
     "execution_count": 2,
     "metadata": {},
     "output_type": "execute_result"
    }
   ],
   "source": [
    "df = pd.read_csv('./data/ControllerData-ver0.5.csv')\n",
    "df.shape\n"
   ]
  },
  {
   "cell_type": "code",
   "execution_count": 3,
   "metadata": {},
   "outputs": [
    {
     "data": {
      "text/html": [
       "<div>\n",
       "<style scoped>\n",
       "    .dataframe tbody tr th:only-of-type {\n",
       "        vertical-align: middle;\n",
       "    }\n",
       "\n",
       "    .dataframe tbody tr th {\n",
       "        vertical-align: top;\n",
       "    }\n",
       "\n",
       "    .dataframe thead th {\n",
       "        text-align: right;\n",
       "    }\n",
       "</style>\n",
       "<table border=\"1\" class=\"dataframe\">\n",
       "  <thead>\n",
       "    <tr style=\"text-align: right;\">\n",
       "      <th></th>\n",
       "      <th>x</th>\n",
       "      <th>y</th>\n",
       "      <th>rx</th>\n",
       "      <th>ry</th>\n",
       "      <th>type</th>\n",
       "    </tr>\n",
       "  </thead>\n",
       "  <tbody>\n",
       "    <tr>\n",
       "      <th>384</th>\n",
       "      <td>0.006222</td>\n",
       "      <td>-0.607613</td>\n",
       "      <td>-0.965017</td>\n",
       "      <td>-0.450530</td>\n",
       "      <td>1</td>\n",
       "    </tr>\n",
       "    <tr>\n",
       "      <th>952</th>\n",
       "      <td>0.088569</td>\n",
       "      <td>-0.801155</td>\n",
       "      <td>-0.955456</td>\n",
       "      <td>-0.030358</td>\n",
       "      <td>1</td>\n",
       "    </tr>\n",
       "    <tr>\n",
       "      <th>877</th>\n",
       "      <td>0.018472</td>\n",
       "      <td>0.504750</td>\n",
       "      <td>-0.131488</td>\n",
       "      <td>-0.962487</td>\n",
       "      <td>1</td>\n",
       "    </tr>\n",
       "    <tr>\n",
       "      <th>836</th>\n",
       "      <td>-0.077023</td>\n",
       "      <td>-0.395893</td>\n",
       "      <td>-0.895920</td>\n",
       "      <td>0.415880</td>\n",
       "      <td>1</td>\n",
       "    </tr>\n",
       "    <tr>\n",
       "      <th>281</th>\n",
       "      <td>-0.018398</td>\n",
       "      <td>-0.378108</td>\n",
       "      <td>-0.392380</td>\n",
       "      <td>0.753902</td>\n",
       "      <td>1</td>\n",
       "    </tr>\n",
       "    <tr>\n",
       "      <th>255</th>\n",
       "      <td>0.070375</td>\n",
       "      <td>0.615646</td>\n",
       "      <td>-1.000000</td>\n",
       "      <td>-0.258114</td>\n",
       "      <td>1</td>\n",
       "    </tr>\n",
       "    <tr>\n",
       "      <th>881</th>\n",
       "      <td>0.107347</td>\n",
       "      <td>-0.235825</td>\n",
       "      <td>-0.920975</td>\n",
       "      <td>-0.092597</td>\n",
       "      <td>1</td>\n",
       "    </tr>\n",
       "    <tr>\n",
       "      <th>1017</th>\n",
       "      <td>0.054860</td>\n",
       "      <td>0.638293</td>\n",
       "      <td>-0.889701</td>\n",
       "      <td>0.565394</td>\n",
       "      <td>1</td>\n",
       "    </tr>\n",
       "    <tr>\n",
       "      <th>793</th>\n",
       "      <td>-0.012844</td>\n",
       "      <td>-0.506569</td>\n",
       "      <td>-0.714733</td>\n",
       "      <td>0.573287</td>\n",
       "      <td>1</td>\n",
       "    </tr>\n",
       "    <tr>\n",
       "      <th>763</th>\n",
       "      <td>0.102187</td>\n",
       "      <td>-0.517082</td>\n",
       "      <td>-1.000000</td>\n",
       "      <td>0.433555</td>\n",
       "      <td>1</td>\n",
       "    </tr>\n",
       "  </tbody>\n",
       "</table>\n",
       "</div>"
      ],
      "text/plain": [
       "             x         y        rx        ry  type\n",
       "384   0.006222 -0.607613 -0.965017 -0.450530     1\n",
       "952   0.088569 -0.801155 -0.955456 -0.030358     1\n",
       "877   0.018472  0.504750 -0.131488 -0.962487     1\n",
       "836  -0.077023 -0.395893 -0.895920  0.415880     1\n",
       "281  -0.018398 -0.378108 -0.392380  0.753902     1\n",
       "255   0.070375  0.615646 -1.000000 -0.258114     1\n",
       "881   0.107347 -0.235825 -0.920975 -0.092597     1\n",
       "1017  0.054860  0.638293 -0.889701  0.565394     1\n",
       "793  -0.012844 -0.506569 -0.714733  0.573287     1\n",
       "763   0.102187 -0.517082 -1.000000  0.433555     1"
      ]
     },
     "execution_count": 3,
     "metadata": {},
     "output_type": "execute_result"
    }
   ],
   "source": [
    "df.sample(10)"
   ]
  },
  {
   "cell_type": "code",
   "execution_count": 4,
   "metadata": {},
   "outputs": [
    {
     "data": {
      "text/html": [
       "<div>\n",
       "<style scoped>\n",
       "    .dataframe tbody tr th:only-of-type {\n",
       "        vertical-align: middle;\n",
       "    }\n",
       "\n",
       "    .dataframe tbody tr th {\n",
       "        vertical-align: top;\n",
       "    }\n",
       "\n",
       "    .dataframe thead th {\n",
       "        text-align: right;\n",
       "    }\n",
       "</style>\n",
       "<table border=\"1\" class=\"dataframe\">\n",
       "  <thead>\n",
       "    <tr style=\"text-align: right;\">\n",
       "      <th></th>\n",
       "      <th>x</th>\n",
       "      <th>y</th>\n",
       "      <th>rx</th>\n",
       "      <th>ry</th>\n",
       "      <th>type</th>\n",
       "    </tr>\n",
       "  </thead>\n",
       "  <tbody>\n",
       "    <tr>\n",
       "      <th>0</th>\n",
       "      <td>0.187561</td>\n",
       "      <td>0.207756</td>\n",
       "      <td>0.057475</td>\n",
       "      <td>0.000381</td>\n",
       "      <td>0</td>\n",
       "    </tr>\n",
       "    <tr>\n",
       "      <th>1</th>\n",
       "      <td>-0.088399</td>\n",
       "      <td>-0.470748</td>\n",
       "      <td>-0.418196</td>\n",
       "      <td>-0.490245</td>\n",
       "      <td>1</td>\n",
       "    </tr>\n",
       "    <tr>\n",
       "      <th>2</th>\n",
       "      <td>-0.438049</td>\n",
       "      <td>-0.225483</td>\n",
       "      <td>0.284041</td>\n",
       "      <td>0.863913</td>\n",
       "      <td>1</td>\n",
       "    </tr>\n",
       "    <tr>\n",
       "      <th>3</th>\n",
       "      <td>-0.006805</td>\n",
       "      <td>0.663217</td>\n",
       "      <td>-0.090068</td>\n",
       "      <td>-0.156803</td>\n",
       "      <td>1</td>\n",
       "    </tr>\n",
       "    <tr>\n",
       "      <th>4</th>\n",
       "      <td>0.430361</td>\n",
       "      <td>0.448622</td>\n",
       "      <td>-0.134916</td>\n",
       "      <td>-0.032047</td>\n",
       "      <td>1</td>\n",
       "    </tr>\n",
       "    <tr>\n",
       "      <th>...</th>\n",
       "      <td>...</td>\n",
       "      <td>...</td>\n",
       "      <td>...</td>\n",
       "      <td>...</td>\n",
       "      <td>...</td>\n",
       "    </tr>\n",
       "    <tr>\n",
       "      <th>1158</th>\n",
       "      <td>-0.306815</td>\n",
       "      <td>0.136027</td>\n",
       "      <td>-0.141678</td>\n",
       "      <td>0.057475</td>\n",
       "      <td>1</td>\n",
       "    </tr>\n",
       "    <tr>\n",
       "      <th>1159</th>\n",
       "      <td>-0.286333</td>\n",
       "      <td>0.400255</td>\n",
       "      <td>0.019028</td>\n",
       "      <td>-0.005753</td>\n",
       "      <td>1</td>\n",
       "    </tr>\n",
       "    <tr>\n",
       "      <th>1160</th>\n",
       "      <td>0.084563</td>\n",
       "      <td>-0.731109</td>\n",
       "      <td>-0.820559</td>\n",
       "      <td>0.355154</td>\n",
       "      <td>1</td>\n",
       "    </tr>\n",
       "    <tr>\n",
       "      <th>1161</th>\n",
       "      <td>0.081865</td>\n",
       "      <td>0.800006</td>\n",
       "      <td>-0.819878</td>\n",
       "      <td>-0.359995</td>\n",
       "      <td>1</td>\n",
       "    </tr>\n",
       "    <tr>\n",
       "      <th>1162</th>\n",
       "      <td>-0.013209</td>\n",
       "      <td>0.435019</td>\n",
       "      <td>-0.801237</td>\n",
       "      <td>-0.603772</td>\n",
       "      <td>1</td>\n",
       "    </tr>\n",
       "  </tbody>\n",
       "</table>\n",
       "<p>1163 rows × 5 columns</p>\n",
       "</div>"
      ],
      "text/plain": [
       "             x         y        rx        ry  type\n",
       "0     0.187561  0.207756  0.057475  0.000381     0\n",
       "1    -0.088399 -0.470748 -0.418196 -0.490245     1\n",
       "2    -0.438049 -0.225483  0.284041  0.863913     1\n",
       "3    -0.006805  0.663217 -0.090068 -0.156803     1\n",
       "4     0.430361  0.448622 -0.134916 -0.032047     1\n",
       "...        ...       ...       ...       ...   ...\n",
       "1158 -0.306815  0.136027 -0.141678  0.057475     1\n",
       "1159 -0.286333  0.400255  0.019028 -0.005753     1\n",
       "1160  0.084563 -0.731109 -0.820559  0.355154     1\n",
       "1161  0.081865  0.800006 -0.819878 -0.359995     1\n",
       "1162 -0.013209  0.435019 -0.801237 -0.603772     1\n",
       "\n",
       "[1163 rows x 5 columns]"
      ]
     },
     "execution_count": 4,
     "metadata": {},
     "output_type": "execute_result"
    }
   ],
   "source": [
    "df.dropna(axis=0, how='any')"
   ]
  },
  {
   "cell_type": "code",
   "execution_count": 5,
   "metadata": {},
   "outputs": [],
   "source": [
    "df1 = df.copy()"
   ]
  },
  {
   "cell_type": "code",
   "execution_count": 6,
   "metadata": {},
   "outputs": [],
   "source": [
    "df1 = df1.round(4)"
   ]
  },
  {
   "cell_type": "code",
   "execution_count": 7,
   "metadata": {},
   "outputs": [],
   "source": [
    "df1 = df1.dropna(axis=0, how='any')\n"
   ]
  },
  {
   "cell_type": "code",
   "execution_count": 8,
   "metadata": {},
   "outputs": [
    {
     "data": {
      "text/html": [
       "<div>\n",
       "<style scoped>\n",
       "    .dataframe tbody tr th:only-of-type {\n",
       "        vertical-align: middle;\n",
       "    }\n",
       "\n",
       "    .dataframe tbody tr th {\n",
       "        vertical-align: top;\n",
       "    }\n",
       "\n",
       "    .dataframe thead th {\n",
       "        text-align: right;\n",
       "    }\n",
       "</style>\n",
       "<table border=\"1\" class=\"dataframe\">\n",
       "  <thead>\n",
       "    <tr style=\"text-align: right;\">\n",
       "      <th></th>\n",
       "      <th>x</th>\n",
       "      <th>y</th>\n",
       "      <th>rx</th>\n",
       "      <th>ry</th>\n",
       "      <th>type</th>\n",
       "    </tr>\n",
       "  </thead>\n",
       "  <tbody>\n",
       "    <tr>\n",
       "      <th>95</th>\n",
       "      <td>0.0244</td>\n",
       "      <td>0.4171</td>\n",
       "      <td>0.0195</td>\n",
       "      <td>-0.3353</td>\n",
       "      <td>0</td>\n",
       "    </tr>\n",
       "    <tr>\n",
       "      <th>961</th>\n",
       "      <td>-0.0004</td>\n",
       "      <td>-0.2935</td>\n",
       "      <td>-0.0281</td>\n",
       "      <td>-0.0469</td>\n",
       "      <td>0</td>\n",
       "    </tr>\n",
       "    <tr>\n",
       "      <th>594</th>\n",
       "      <td>-0.1235</td>\n",
       "      <td>0.3493</td>\n",
       "      <td>-0.2232</td>\n",
       "      <td>0.2650</td>\n",
       "      <td>0</td>\n",
       "    </tr>\n",
       "    <tr>\n",
       "      <th>415</th>\n",
       "      <td>0.0085</td>\n",
       "      <td>0.2207</td>\n",
       "      <td>-0.2446</td>\n",
       "      <td>-0.4463</td>\n",
       "      <td>0</td>\n",
       "    </tr>\n",
       "    <tr>\n",
       "      <th>1136</th>\n",
       "      <td>0.1995</td>\n",
       "      <td>0.2732</td>\n",
       "      <td>0.0176</td>\n",
       "      <td>-0.2312</td>\n",
       "      <td>0</td>\n",
       "    </tr>\n",
       "    <tr>\n",
       "      <th>510</th>\n",
       "      <td>0.2668</td>\n",
       "      <td>-0.2040</td>\n",
       "      <td>0.0993</td>\n",
       "      <td>-0.0310</td>\n",
       "      <td>0</td>\n",
       "    </tr>\n",
       "    <tr>\n",
       "      <th>950</th>\n",
       "      <td>0.0070</td>\n",
       "      <td>-0.3861</td>\n",
       "      <td>0.0223</td>\n",
       "      <td>0.0510</td>\n",
       "      <td>0</td>\n",
       "    </tr>\n",
       "    <tr>\n",
       "      <th>1149</th>\n",
       "      <td>0.0193</td>\n",
       "      <td>0.2871</td>\n",
       "      <td>-0.4312</td>\n",
       "      <td>-0.2197</td>\n",
       "      <td>0</td>\n",
       "    </tr>\n",
       "    <tr>\n",
       "      <th>75</th>\n",
       "      <td>-0.0859</td>\n",
       "      <td>-0.2611</td>\n",
       "      <td>-0.0130</td>\n",
       "      <td>0.4031</td>\n",
       "      <td>0</td>\n",
       "    </tr>\n",
       "    <tr>\n",
       "      <th>303</th>\n",
       "      <td>-0.1067</td>\n",
       "      <td>0.4502</td>\n",
       "      <td>-0.4364</td>\n",
       "      <td>-0.3174</td>\n",
       "      <td>0</td>\n",
       "    </tr>\n",
       "    <tr>\n",
       "      <th>157</th>\n",
       "      <td>0.2081</td>\n",
       "      <td>-0.2702</td>\n",
       "      <td>-0.3969</td>\n",
       "      <td>0.8641</td>\n",
       "      <td>0</td>\n",
       "    </tr>\n",
       "    <tr>\n",
       "      <th>562</th>\n",
       "      <td>-0.1185</td>\n",
       "      <td>-0.3500</td>\n",
       "      <td>-0.0495</td>\n",
       "      <td>0.0544</td>\n",
       "      <td>0</td>\n",
       "    </tr>\n",
       "    <tr>\n",
       "      <th>719</th>\n",
       "      <td>0.0451</td>\n",
       "      <td>-0.2925</td>\n",
       "      <td>-0.0077</td>\n",
       "      <td>-0.0961</td>\n",
       "      <td>0</td>\n",
       "    </tr>\n",
       "    <tr>\n",
       "      <th>380</th>\n",
       "      <td>0.2202</td>\n",
       "      <td>-0.2727</td>\n",
       "      <td>0.0035</td>\n",
       "      <td>-0.0035</td>\n",
       "      <td>0</td>\n",
       "    </tr>\n",
       "    <tr>\n",
       "      <th>1000</th>\n",
       "      <td>0.1603</td>\n",
       "      <td>-0.2116</td>\n",
       "      <td>0.0485</td>\n",
       "      <td>-0.0006</td>\n",
       "      <td>0</td>\n",
       "    </tr>\n",
       "    <tr>\n",
       "      <th>48</th>\n",
       "      <td>0.1452</td>\n",
       "      <td>-0.0351</td>\n",
       "      <td>-0.6733</td>\n",
       "      <td>-0.8661</td>\n",
       "      <td>0</td>\n",
       "    </tr>\n",
       "    <tr>\n",
       "      <th>1083</th>\n",
       "      <td>-0.4294</td>\n",
       "      <td>0.1591</td>\n",
       "      <td>-0.0471</td>\n",
       "      <td>0.0579</td>\n",
       "      <td>0</td>\n",
       "    </tr>\n",
       "    <tr>\n",
       "      <th>1120</th>\n",
       "      <td>0.0886</td>\n",
       "      <td>-0.4008</td>\n",
       "      <td>-0.6887</td>\n",
       "      <td>0.3958</td>\n",
       "      <td>0</td>\n",
       "    </tr>\n",
       "    <tr>\n",
       "      <th>1050</th>\n",
       "      <td>-0.3750</td>\n",
       "      <td>0.0866</td>\n",
       "      <td>0.0184</td>\n",
       "      <td>-0.0055</td>\n",
       "      <td>0</td>\n",
       "    </tr>\n",
       "    <tr>\n",
       "      <th>781</th>\n",
       "      <td>-0.0136</td>\n",
       "      <td>-0.3001</td>\n",
       "      <td>-0.3285</td>\n",
       "      <td>-0.2102</td>\n",
       "      <td>0</td>\n",
       "    </tr>\n",
       "  </tbody>\n",
       "</table>\n",
       "</div>"
      ],
      "text/plain": [
       "           x       y      rx      ry  type\n",
       "95    0.0244  0.4171  0.0195 -0.3353     0\n",
       "961  -0.0004 -0.2935 -0.0281 -0.0469     0\n",
       "594  -0.1235  0.3493 -0.2232  0.2650     0\n",
       "415   0.0085  0.2207 -0.2446 -0.4463     0\n",
       "1136  0.1995  0.2732  0.0176 -0.2312     0\n",
       "510   0.2668 -0.2040  0.0993 -0.0310     0\n",
       "950   0.0070 -0.3861  0.0223  0.0510     0\n",
       "1149  0.0193  0.2871 -0.4312 -0.2197     0\n",
       "75   -0.0859 -0.2611 -0.0130  0.4031     0\n",
       "303  -0.1067  0.4502 -0.4364 -0.3174     0\n",
       "157   0.2081 -0.2702 -0.3969  0.8641     0\n",
       "562  -0.1185 -0.3500 -0.0495  0.0544     0\n",
       "719   0.0451 -0.2925 -0.0077 -0.0961     0\n",
       "380   0.2202 -0.2727  0.0035 -0.0035     0\n",
       "1000  0.1603 -0.2116  0.0485 -0.0006     0\n",
       "48    0.1452 -0.0351 -0.6733 -0.8661     0\n",
       "1083 -0.4294  0.1591 -0.0471  0.0579     0\n",
       "1120  0.0886 -0.4008 -0.6887  0.3958     0\n",
       "1050 -0.3750  0.0866  0.0184 -0.0055     0\n",
       "781  -0.0136 -0.3001 -0.3285 -0.2102     0"
      ]
     },
     "execution_count": 8,
     "metadata": {},
     "output_type": "execute_result"
    }
   ],
   "source": [
    "data_1 = df1.loc[df1['type'] == 1]\n",
    "data_2 = df1.loc[df1['type'] == 0]\n",
    "data_2.sample(20)"
   ]
  },
  {
   "cell_type": "code",
   "execution_count": 25,
   "metadata": {},
   "outputs": [
    {
     "data": {
      "image/png": "[encoded data removed]",
      "text/plain": [
       "<Figure size 432x288 with 1 Axes>"
      ]
     },
     "metadata": {
      "needs_background": "light"
     },
     "output_type": "display_data"
    }
   ],
   "source": [
    "from cProfile import label\n",
    "from turtle import color\n",
    "\n",
    "X_data_1 = pd.DataFrame(data_1, columns=['x'])\n",
    "Y_data_1 = pd.DataFrame(data_1, columns=['y'])\n",
    "X_data_2 = pd.DataFrame(data_2, columns=['x'])\n",
    "Y_data_2 = pd.DataFrame(data_2, columns=['y'])\n",
    "plt.scatter(X_data_1, Y_data_1, color='red', label='Moving')\n",
    "plt.scatter(X_data_2, Y_data_2, color='blue', label='Aiming')\n",
    "plt.legend(loc='upper right')\n",
    "plt.show()"
   ]
  },
  {
   "cell_type": "code",
   "execution_count": 26,
   "metadata": {},
   "outputs": [
    {
     "data": {
      "image/png": "[encoded data removed]",
      "text/plain": [
       "<Figure size 432x288 with 1 Axes>"
      ]
     },
     "metadata": {
      "needs_background": "light"
     },
     "output_type": "display_data"
    }
   ],
   "source": [
    "RX_data_1 = pd.DataFrame(data_1, columns=['rx'])\n",
    "RY_data_1 = pd.DataFrame(data_1, columns=['ry'])\n",
    "RX_data_2 = pd.DataFrame(data_2, columns=['rx'])\n",
    "RY_data_2 = pd.DataFrame(data_2, columns=['ry'])\n",
    "plt.scatter(RX_data_1, RY_data_1, color='red', label = 'Moving')\n",
    "plt.scatter(RX_data_2, RY_data_2, color='blue', label = 'Aiming')\n",
    "plt.legend(loc='upper right')\n",
    "plt.show()"
   ]
  },
  {
   "cell_type": "code",
   "execution_count": 27,
   "metadata": {},
   "outputs": [],
   "source": [
    "df_X = df1.loc[:, ['x', 'y', 'rx', 'ry']]\n",
    "df_y = df1.type"
   ]
  },
  {
   "cell_type": "code",
   "execution_count": 28,
   "metadata": {},
   "outputs": [
    {
     "data": {
      "text/plain": [
       "0       0\n",
       "1       1\n",
       "2       1\n",
       "3       1\n",
       "4       1\n",
       "       ..\n",
       "1158    1\n",
       "1159    1\n",
       "1160    1\n",
       "1161    1\n",
       "1162    1\n",
       "Name: type, Length: 1163, dtype: int64"
      ]
     },
     "execution_count": 28,
     "metadata": {},
     "output_type": "execute_result"
    }
   ],
   "source": [
    "df_y"
   ]
  },
  {
   "cell_type": "code",
   "execution_count": 29,
   "metadata": {},
   "outputs": [],
   "source": [
    "from sklearn.model_selection import train_test_split\n",
    "from sklearn.metrics import f1_score\n",
    "from sklearn.metrics import precision_score\n",
    "from sklearn.metrics import recall_score\n",
    "\n",
    "X_train, X_test, y_train, y_test = train_test_split(df_X, df_y, random_state=123)"
   ]
  },
  {
   "cell_type": "code",
   "execution_count": 30,
   "metadata": {},
   "outputs": [
    {
     "name": "stdout",
     "output_type": "stream",
     "text": [
      "0.8394495412844036\n",
      "0.8487972508591065\n"
     ]
    }
   ],
   "source": [
    "from sklearn.linear_model import LogisticRegression\n",
    "log_reg = LogisticRegression()\n",
    "log_reg.fit(X_train, y_train)\n",
    "print(log_reg.score(X_train, y_train))\n",
    "print(log_reg.score(X_test, y_test))"
   ]
  },
  {
   "cell_type": "code",
   "execution_count": 45,
   "metadata": {},
   "outputs": [
    {
     "name": "stdout",
     "output_type": "stream",
     "text": [
      "0.8646788990825688\n",
      "0.8831615120274914\n",
      "+++++++++++++++++\n",
      "pricision:  0.9101123595505618\n",
      "recall:  0.9604743083003953\n",
      "f1:  0.9346153846153846\n"
     ]
    }
   ],
   "source": [
    "from sklearn.preprocessing import PolynomialFeatures\n",
    "from sklearn.pipeline import Pipeline\n",
    "\n",
    "def PolynomialLogisticRegression(degree):\n",
    "  return Pipeline([\n",
    "    ('poly', PolynomialFeatures(degree=degree)),\n",
    "    ('log_reg', LogisticRegression())\n",
    "  ])\n",
    "\n",
    "poly_log_reg = PolynomialLogisticRegression(2)\n",
    "poly_log_reg.fit(X_train, y_train)\n",
    "print(poly_log_reg.score(X_train, y_train))\n",
    "print(poly_log_reg.score(X_test, y_test))\n",
    "\n",
    "print('+++++++++++++++++')\n",
    "y_predict = poly_log_reg.predict(X_test)\n",
    "print(\"pricision: \", precision_score(y_test, y_predict))\n",
    "print(\"recall: \", recall_score(y_test, y_predict))\n",
    "print(\"f1: \",f1_score(y_test, y_predict))\n",
    "\n"
   ]
  },
  {
   "cell_type": "code",
   "execution_count": 32,
   "metadata": {},
   "outputs": [
    {
     "name": "stdout",
     "output_type": "stream",
     "text": [
      "0.8509174311926605\n",
      "0.8694158075601375\n"
     ]
    }
   ],
   "source": [
    "from sklearn.linear_model import SGDClassifier\n",
    "\n",
    "sgdc = SGDClassifier(loss='hinge', penalty='elasticnet')\n",
    "sgdc.fit(X_train, y_train)\n",
    "print(sgdc.score(X_train, y_train))\n",
    "print(sgdc.score(X_test, y_test))"
   ]
  },
  {
   "cell_type": "code",
   "execution_count": 33,
   "metadata": {},
   "outputs": [
    {
     "name": "stdout",
     "output_type": "stream",
     "text": [
      "0.8853211009174312\n",
      "0.9106529209621993\n",
      "+++++++++++++++++++++++++++++\n",
      "precision:  0.9416342412451362\n",
      "recall:  0.9565217391304348\n",
      "f1:  0.9490196078431372\n"
     ]
    }
   ],
   "source": [
    "from sklearn.svm import SVC\n",
    "\n",
    "svc = SVC()\n",
    "svc.fit(X_train, y_train)\n",
    "print(svc.score(X_train, y_train))\n",
    "print(svc.score(X_test, y_test))\n",
    "print(\"+++++++++++++++++++++++++++++\")\n",
    "y_predict = svc.predict(X_test)\n",
    "print(\"precision: \", precision_score(y_test, y_predict))\n",
    "print(\"recall: \", recall_score(y_test, y_predict))\n",
    "print(\"f1: \", f1_score(y_test, y_predict))"
   ]
  },
  {
   "cell_type": "code",
   "execution_count": 34,
   "metadata": {},
   "outputs": [
    {
     "data": {
      "text/plain": [
       "array([1.46413595])"
      ]
     },
     "execution_count": 34,
     "metadata": {},
     "output_type": "execute_result"
    }
   ],
   "source": [
    "svc.intercept_"
   ]
  },
  {
   "cell_type": "code",
   "execution_count": 35,
   "metadata": {},
   "outputs": [],
   "source": [
    "import pickle\n",
    "pickle.dump(svc, open('svc_model', 'wb'))"
   ]
  },
  {
   "cell_type": "code",
   "execution_count": 36,
   "metadata": {},
   "outputs": [],
   "source": [
    "pickle.dump(log_reg, open('log_reg', 'wb'))"
   ]
  },
  {
   "cell_type": "code",
   "execution_count": 47,
   "metadata": {},
   "outputs": [],
   "source": [
    "pickle.dump(poly_log_reg, open('poly_log_reg.pkl', 'wb'))"
   ]
  },
  {
   "cell_type": "code",
   "execution_count": 38,
   "metadata": {},
   "outputs": [
    {
     "data": {
      "text/plain": [
       "['poly_log_reg.joblib']"
      ]
     },
     "execution_count": 38,
     "metadata": {},
     "output_type": "execute_result"
    }
   ],
   "source": [
    "from joblib import dump\n",
    "dump(poly_log_reg, 'poly_log_reg.joblib')"
   ]
  },
  {
   "cell_type": "code",
   "execution_count": 39,
   "metadata": {},
   "outputs": [
    {
     "name": "stdout",
     "output_type": "stream",
     "text": [
      "precision:  0.9416342412451362\n"
     ]
    }
   ],
   "source": [
    "model = pickle.load(open('svc_model', 'rb'))\n",
    "y = model.predict(X_test)\n",
    "print(\"precision: \", precision_score(y_test, y))"
   ]
  },
  {
   "cell_type": "code",
   "execution_count": 40,
   "metadata": {},
   "outputs": [
    {
     "name": "stderr",
     "output_type": "stream",
     "text": [
      "/Users/khalillee/opt/anaconda3/lib/python3.8/site-packages/sklearn/base.py:450: UserWarning: X does not have valid feature names, but SVC was fitted with feature names\n",
      "  warnings.warn(\n"
     ]
    },
    {
     "data": {
      "text/plain": [
       "array([1])"
      ]
     },
     "execution_count": 40,
     "metadata": {},
     "output_type": "execute_result"
    }
   ],
   "source": [
    "model.predict([[\"0.11008091156299298\",\"0.40200244463407075\",\"0.05479982724556556\",\"-0.042620798716178306\"]])\n"
   ]
  }
 ],
 "metadata": {
  "kernelspec": {
   "display_name": "Python 3.8.2 ('base')",
   "language": "python",
   "name": "python3"
  },
  "language_info": {
   "codemirror_mode": {
    "name": "ipython",
    "version": 3
   },
   "file_extension": ".py",
   "mimetype": "text/x-python",
   "name": "python",
   "nbconvert_exporter": "python",
   "pygments_lexer": "ipython3",
   "version": "3.8.13"
  },
  "orig_nbformat": 4,
  "vscode": {
   "interpreter": {
    "hash": "12685bb311716c36654bdbac1ae71e63070167e2e04c97a1a9beff30187a4154"
   }
  }
 },
 "nbformat": 4,
 "nbformat_minor": 2
}
