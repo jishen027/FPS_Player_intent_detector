{
 "cells": [
  {
   "cell_type": "code",
   "execution_count": 29,
   "metadata": {},
   "outputs": [],
   "source": [
    "import pandas as pd\n",
    "import matplotlib.pyplot as plt\n",
    "import numpy as np"
   ]
  },
  {
   "cell_type": "code",
   "execution_count": 30,
   "metadata": {},
   "outputs": [
    {
     "data": {
      "text/plain": [
       "(464, 5)"
      ]
     },
     "execution_count": 30,
     "metadata": {},
     "output_type": "execute_result"
    }
   ],
   "source": [
    "df = pd.read_csv('./data/ControllerData-ver0.3.csv')\n",
    "df.shape\n"
   ]
  },
  {
   "cell_type": "code",
   "execution_count": 31,
   "metadata": {},
   "outputs": [
    {
     "data": {
      "text/html": [
       "<div>\n",
       "<style scoped>\n",
       "    .dataframe tbody tr th:only-of-type {\n",
       "        vertical-align: middle;\n",
       "    }\n",
       "\n",
       "    .dataframe tbody tr th {\n",
       "        vertical-align: top;\n",
       "    }\n",
       "\n",
       "    .dataframe thead th {\n",
       "        text-align: right;\n",
       "    }\n",
       "</style>\n",
       "<table border=\"1\" class=\"dataframe\">\n",
       "  <thead>\n",
       "    <tr style=\"text-align: right;\">\n",
       "      <th></th>\n",
       "      <th>x</th>\n",
       "      <th>y</th>\n",
       "      <th>rx</th>\n",
       "      <th>ry</th>\n",
       "      <th>type</th>\n",
       "    </tr>\n",
       "  </thead>\n",
       "  <tbody>\n",
       "    <tr>\n",
       "      <th>84</th>\n",
       "      <td>-0.262041</td>\n",
       "      <td>-0.161673</td>\n",
       "      <td>-0.933107</td>\n",
       "      <td>0.224489</td>\n",
       "      <td>1</td>\n",
       "    </tr>\n",
       "    <tr>\n",
       "      <th>74</th>\n",
       "      <td>-0.020651</td>\n",
       "      <td>-0.340114</td>\n",
       "      <td>-0.575994</td>\n",
       "      <td>-0.749437</td>\n",
       "      <td>1</td>\n",
       "    </tr>\n",
       "    <tr>\n",
       "      <th>395</th>\n",
       "      <td>-0.219246</td>\n",
       "      <td>-0.504371</td>\n",
       "      <td>-1.000000</td>\n",
       "      <td>-0.040017</td>\n",
       "      <td>1</td>\n",
       "    </tr>\n",
       "    <tr>\n",
       "      <th>285</th>\n",
       "      <td>-0.353375</td>\n",
       "      <td>-0.006281</td>\n",
       "      <td>-0.997943</td>\n",
       "      <td>-0.402052</td>\n",
       "      <td>0</td>\n",
       "    </tr>\n",
       "    <tr>\n",
       "      <th>93</th>\n",
       "      <td>-0.112686</td>\n",
       "      <td>0.501517</td>\n",
       "      <td>-0.305805</td>\n",
       "      <td>0.942528</td>\n",
       "      <td>1</td>\n",
       "    </tr>\n",
       "    <tr>\n",
       "      <th>100</th>\n",
       "      <td>0.140206</td>\n",
       "      <td>-0.475164</td>\n",
       "      <td>-0.444302</td>\n",
       "      <td>0.752752</td>\n",
       "      <td>1</td>\n",
       "    </tr>\n",
       "    <tr>\n",
       "      <th>118</th>\n",
       "      <td>-0.027576</td>\n",
       "      <td>-0.127459</td>\n",
       "      <td>0.407523</td>\n",
       "      <td>-0.807489</td>\n",
       "      <td>0</td>\n",
       "    </tr>\n",
       "    <tr>\n",
       "      <th>329</th>\n",
       "      <td>0.018509</td>\n",
       "      <td>0.361553</td>\n",
       "      <td>-0.823870</td>\n",
       "      <td>-0.624513</td>\n",
       "      <td>1</td>\n",
       "    </tr>\n",
       "    <tr>\n",
       "      <th>145</th>\n",
       "      <td>0.042621</td>\n",
       "      <td>0.359603</td>\n",
       "      <td>-1.000000</td>\n",
       "      <td>-0.064659</td>\n",
       "      <td>1</td>\n",
       "    </tr>\n",
       "    <tr>\n",
       "      <th>363</th>\n",
       "      <td>0.013571</td>\n",
       "      <td>-0.426879</td>\n",
       "      <td>0.017671</td>\n",
       "      <td>-0.571710</td>\n",
       "      <td>1</td>\n",
       "    </tr>\n",
       "  </tbody>\n",
       "</table>\n",
       "</div>"
      ],
      "text/plain": [
       "            x         y        rx        ry  type\n",
       "84  -0.262041 -0.161673 -0.933107  0.224489     1\n",
       "74  -0.020651 -0.340114 -0.575994 -0.749437     1\n",
       "395 -0.219246 -0.504371 -1.000000 -0.040017     1\n",
       "285 -0.353375 -0.006281 -0.997943 -0.402052     0\n",
       "93  -0.112686  0.501517 -0.305805  0.942528     1\n",
       "100  0.140206 -0.475164 -0.444302  0.752752     1\n",
       "118 -0.027576 -0.127459  0.407523 -0.807489     0\n",
       "329  0.018509  0.361553 -0.823870 -0.624513     1\n",
       "145  0.042621  0.359603 -1.000000 -0.064659     1\n",
       "363  0.013571 -0.426879  0.017671 -0.571710     1"
      ]
     },
     "execution_count": 31,
     "metadata": {},
     "output_type": "execute_result"
    }
   ],
   "source": [
    "df.sample(10)"
   ]
  },
  {
   "cell_type": "code",
   "execution_count": 32,
   "metadata": {},
   "outputs": [
    {
     "data": {
      "text/html": [
       "<div>\n",
       "<style scoped>\n",
       "    .dataframe tbody tr th:only-of-type {\n",
       "        vertical-align: middle;\n",
       "    }\n",
       "\n",
       "    .dataframe tbody tr th {\n",
       "        vertical-align: top;\n",
       "    }\n",
       "\n",
       "    .dataframe thead th {\n",
       "        text-align: right;\n",
       "    }\n",
       "</style>\n",
       "<table border=\"1\" class=\"dataframe\">\n",
       "  <thead>\n",
       "    <tr style=\"text-align: right;\">\n",
       "      <th></th>\n",
       "      <th>x</th>\n",
       "      <th>y</th>\n",
       "      <th>rx</th>\n",
       "      <th>ry</th>\n",
       "      <th>type</th>\n",
       "    </tr>\n",
       "  </thead>\n",
       "  <tbody>\n",
       "    <tr>\n",
       "      <th>0</th>\n",
       "      <td>0.187561</td>\n",
       "      <td>0.207756</td>\n",
       "      <td>0.057475</td>\n",
       "      <td>0.000381</td>\n",
       "      <td>0</td>\n",
       "    </tr>\n",
       "    <tr>\n",
       "      <th>1</th>\n",
       "      <td>-0.438049</td>\n",
       "      <td>-0.225483</td>\n",
       "      <td>0.284041</td>\n",
       "      <td>0.863913</td>\n",
       "      <td>1</td>\n",
       "    </tr>\n",
       "    <tr>\n",
       "      <th>2</th>\n",
       "      <td>-0.006805</td>\n",
       "      <td>0.663217</td>\n",
       "      <td>-0.090068</td>\n",
       "      <td>-0.156803</td>\n",
       "      <td>1</td>\n",
       "    </tr>\n",
       "    <tr>\n",
       "      <th>3</th>\n",
       "      <td>0.430361</td>\n",
       "      <td>0.448622</td>\n",
       "      <td>-0.134916</td>\n",
       "      <td>-0.032047</td>\n",
       "      <td>1</td>\n",
       "    </tr>\n",
       "    <tr>\n",
       "      <th>4</th>\n",
       "      <td>-0.001085</td>\n",
       "      <td>0.587067</td>\n",
       "      <td>-0.489379</td>\n",
       "      <td>-0.032271</td>\n",
       "      <td>1</td>\n",
       "    </tr>\n",
       "    <tr>\n",
       "      <th>...</th>\n",
       "      <td>...</td>\n",
       "      <td>...</td>\n",
       "      <td>...</td>\n",
       "      <td>...</td>\n",
       "      <td>...</td>\n",
       "    </tr>\n",
       "    <tr>\n",
       "      <th>459</th>\n",
       "      <td>0.160361</td>\n",
       "      <td>-0.871232</td>\n",
       "      <td>-0.821495</td>\n",
       "      <td>-0.701521</td>\n",
       "      <td>1</td>\n",
       "    </tr>\n",
       "    <tr>\n",
       "      <th>460</th>\n",
       "      <td>-0.015287</td>\n",
       "      <td>0.516250</td>\n",
       "      <td>-0.988253</td>\n",
       "      <td>0.226958</td>\n",
       "      <td>1</td>\n",
       "    </tr>\n",
       "    <tr>\n",
       "      <th>461</th>\n",
       "      <td>0.028582</td>\n",
       "      <td>0.508413</td>\n",
       "      <td>-0.978433</td>\n",
       "      <td>0.454359</td>\n",
       "      <td>1</td>\n",
       "    </tr>\n",
       "    <tr>\n",
       "      <th>462</th>\n",
       "      <td>-0.048081</td>\n",
       "      <td>0.709558</td>\n",
       "      <td>-0.636400</td>\n",
       "      <td>0.895064</td>\n",
       "      <td>1</td>\n",
       "    </tr>\n",
       "    <tr>\n",
       "      <th>463</th>\n",
       "      <td>-0.306815</td>\n",
       "      <td>0.136027</td>\n",
       "      <td>-0.141678</td>\n",
       "      <td>0.057475</td>\n",
       "      <td>1</td>\n",
       "    </tr>\n",
       "  </tbody>\n",
       "</table>\n",
       "<p>464 rows × 5 columns</p>\n",
       "</div>"
      ],
      "text/plain": [
       "            x         y        rx        ry  type\n",
       "0    0.187561  0.207756  0.057475  0.000381     0\n",
       "1   -0.438049 -0.225483  0.284041  0.863913     1\n",
       "2   -0.006805  0.663217 -0.090068 -0.156803     1\n",
       "3    0.430361  0.448622 -0.134916 -0.032047     1\n",
       "4   -0.001085  0.587067 -0.489379 -0.032271     1\n",
       "..        ...       ...       ...       ...   ...\n",
       "459  0.160361 -0.871232 -0.821495 -0.701521     1\n",
       "460 -0.015287  0.516250 -0.988253  0.226958     1\n",
       "461  0.028582  0.508413 -0.978433  0.454359     1\n",
       "462 -0.048081  0.709558 -0.636400  0.895064     1\n",
       "463 -0.306815  0.136027 -0.141678  0.057475     1\n",
       "\n",
       "[464 rows x 5 columns]"
      ]
     },
     "execution_count": 32,
     "metadata": {},
     "output_type": "execute_result"
    }
   ],
   "source": [
    "df.dropna(axis=0, how='any')"
   ]
  },
  {
   "cell_type": "code",
   "execution_count": 33,
   "metadata": {},
   "outputs": [],
   "source": [
    "df1 = df.copy()"
   ]
  },
  {
   "cell_type": "code",
   "execution_count": 34,
   "metadata": {},
   "outputs": [],
   "source": [
    "df1 = df1.round(4)"
   ]
  },
  {
   "cell_type": "code",
   "execution_count": 35,
   "metadata": {},
   "outputs": [],
   "source": [
    "df1 = df1.dropna(axis=0, how='any')\n"
   ]
  },
  {
   "cell_type": "code",
   "execution_count": 36,
   "metadata": {},
   "outputs": [
    {
     "data": {
      "text/html": [
       "<div>\n",
       "<style scoped>\n",
       "    .dataframe tbody tr th:only-of-type {\n",
       "        vertical-align: middle;\n",
       "    }\n",
       "\n",
       "    .dataframe tbody tr th {\n",
       "        vertical-align: top;\n",
       "    }\n",
       "\n",
       "    .dataframe thead th {\n",
       "        text-align: right;\n",
       "    }\n",
       "</style>\n",
       "<table border=\"1\" class=\"dataframe\">\n",
       "  <thead>\n",
       "    <tr style=\"text-align: right;\">\n",
       "      <th></th>\n",
       "      <th>x</th>\n",
       "      <th>y</th>\n",
       "      <th>rx</th>\n",
       "      <th>ry</th>\n",
       "      <th>type</th>\n",
       "    </tr>\n",
       "  </thead>\n",
       "  <tbody>\n",
       "    <tr>\n",
       "      <th>79</th>\n",
       "      <td>0.2094</td>\n",
       "      <td>-0.2323</td>\n",
       "      <td>-0.1119</td>\n",
       "      <td>-0.0083</td>\n",
       "      <td>0</td>\n",
       "    </tr>\n",
       "    <tr>\n",
       "      <th>95</th>\n",
       "      <td>-0.0643</td>\n",
       "      <td>0.3036</td>\n",
       "      <td>-0.0056</td>\n",
       "      <td>0.0465</td>\n",
       "      <td>0</td>\n",
       "    </tr>\n",
       "    <tr>\n",
       "      <th>384</th>\n",
       "      <td>0.1108</td>\n",
       "      <td>0.3616</td>\n",
       "      <td>-0.6246</td>\n",
       "      <td>-0.0777</td>\n",
       "      <td>0</td>\n",
       "    </tr>\n",
       "    <tr>\n",
       "      <th>42</th>\n",
       "      <td>0.3254</td>\n",
       "      <td>-0.0180</td>\n",
       "      <td>-0.0571</td>\n",
       "      <td>-0.0529</td>\n",
       "      <td>0</td>\n",
       "    </tr>\n",
       "    <tr>\n",
       "      <th>194</th>\n",
       "      <td>0.0718</td>\n",
       "      <td>0.5555</td>\n",
       "      <td>-0.0373</td>\n",
       "      <td>-0.1931</td>\n",
       "      <td>0</td>\n",
       "    </tr>\n",
       "    <tr>\n",
       "      <th>25</th>\n",
       "      <td>0.3643</td>\n",
       "      <td>0.1374</td>\n",
       "      <td>-0.0360</td>\n",
       "      <td>-0.0273</td>\n",
       "      <td>0</td>\n",
       "    </tr>\n",
       "    <tr>\n",
       "      <th>157</th>\n",
       "      <td>0.0257</td>\n",
       "      <td>-0.3255</td>\n",
       "      <td>0.0864</td>\n",
       "      <td>-0.0737</td>\n",
       "      <td>0</td>\n",
       "    </tr>\n",
       "    <tr>\n",
       "      <th>58</th>\n",
       "      <td>0.2252</td>\n",
       "      <td>-0.0777</td>\n",
       "      <td>-0.0704</td>\n",
       "      <td>0.0163</td>\n",
       "      <td>0</td>\n",
       "    </tr>\n",
       "    <tr>\n",
       "      <th>156</th>\n",
       "      <td>0.2202</td>\n",
       "      <td>-0.2727</td>\n",
       "      <td>0.0035</td>\n",
       "      <td>-0.0035</td>\n",
       "      <td>0</td>\n",
       "    </tr>\n",
       "    <tr>\n",
       "      <th>289</th>\n",
       "      <td>0.2313</td>\n",
       "      <td>-0.4146</td>\n",
       "      <td>0.0118</td>\n",
       "      <td>0.1078</td>\n",
       "      <td>0</td>\n",
       "    </tr>\n",
       "    <tr>\n",
       "      <th>218</th>\n",
       "      <td>0.3478</td>\n",
       "      <td>-0.2072</td>\n",
       "      <td>0.0035</td>\n",
       "      <td>-0.0035</td>\n",
       "      <td>0</td>\n",
       "    </tr>\n",
       "    <tr>\n",
       "      <th>391</th>\n",
       "      <td>-0.0696</td>\n",
       "      <td>0.2257</td>\n",
       "      <td>-0.0199</td>\n",
       "      <td>-0.0604</td>\n",
       "      <td>0</td>\n",
       "    </tr>\n",
       "    <tr>\n",
       "      <th>8</th>\n",
       "      <td>0.0020</td>\n",
       "      <td>-0.4577</td>\n",
       "      <td>0.0640</td>\n",
       "      <td>0.6708</td>\n",
       "      <td>0</td>\n",
       "    </tr>\n",
       "    <tr>\n",
       "      <th>338</th>\n",
       "      <td>0.3894</td>\n",
       "      <td>-0.1750</td>\n",
       "      <td>-0.0683</td>\n",
       "      <td>0.0158</td>\n",
       "      <td>0</td>\n",
       "    </tr>\n",
       "    <tr>\n",
       "      <th>300</th>\n",
       "      <td>-0.3245</td>\n",
       "      <td>-0.2342</td>\n",
       "      <td>0.0415</td>\n",
       "      <td>-0.0493</td>\n",
       "      <td>0</td>\n",
       "    </tr>\n",
       "    <tr>\n",
       "      <th>207</th>\n",
       "      <td>-0.1081</td>\n",
       "      <td>-0.0580</td>\n",
       "      <td>-0.2443</td>\n",
       "      <td>-0.1151</td>\n",
       "      <td>0</td>\n",
       "    </tr>\n",
       "    <tr>\n",
       "      <th>101</th>\n",
       "      <td>-0.0407</td>\n",
       "      <td>0.0992</td>\n",
       "      <td>-0.1524</td>\n",
       "      <td>-0.0785</td>\n",
       "      <td>0</td>\n",
       "    </tr>\n",
       "    <tr>\n",
       "      <th>71</th>\n",
       "      <td>-0.1785</td>\n",
       "      <td>-0.3712</td>\n",
       "      <td>0.0282</td>\n",
       "      <td>-0.1327</td>\n",
       "      <td>0</td>\n",
       "    </tr>\n",
       "    <tr>\n",
       "      <th>204</th>\n",
       "      <td>0.0837</td>\n",
       "      <td>0.1107</td>\n",
       "      <td>0.7754</td>\n",
       "      <td>0.7100</td>\n",
       "      <td>0</td>\n",
       "    </tr>\n",
       "    <tr>\n",
       "      <th>52</th>\n",
       "      <td>0.1733</td>\n",
       "      <td>-0.2148</td>\n",
       "      <td>-0.0522</td>\n",
       "      <td>0.0542</td>\n",
       "      <td>0</td>\n",
       "    </tr>\n",
       "  </tbody>\n",
       "</table>\n",
       "</div>"
      ],
      "text/plain": [
       "          x       y      rx      ry  type\n",
       "79   0.2094 -0.2323 -0.1119 -0.0083     0\n",
       "95  -0.0643  0.3036 -0.0056  0.0465     0\n",
       "384  0.1108  0.3616 -0.6246 -0.0777     0\n",
       "42   0.3254 -0.0180 -0.0571 -0.0529     0\n",
       "194  0.0718  0.5555 -0.0373 -0.1931     0\n",
       "25   0.3643  0.1374 -0.0360 -0.0273     0\n",
       "157  0.0257 -0.3255  0.0864 -0.0737     0\n",
       "58   0.2252 -0.0777 -0.0704  0.0163     0\n",
       "156  0.2202 -0.2727  0.0035 -0.0035     0\n",
       "289  0.2313 -0.4146  0.0118  0.1078     0\n",
       "218  0.3478 -0.2072  0.0035 -0.0035     0\n",
       "391 -0.0696  0.2257 -0.0199 -0.0604     0\n",
       "8    0.0020 -0.4577  0.0640  0.6708     0\n",
       "338  0.3894 -0.1750 -0.0683  0.0158     0\n",
       "300 -0.3245 -0.2342  0.0415 -0.0493     0\n",
       "207 -0.1081 -0.0580 -0.2443 -0.1151     0\n",
       "101 -0.0407  0.0992 -0.1524 -0.0785     0\n",
       "71  -0.1785 -0.3712  0.0282 -0.1327     0\n",
       "204  0.0837  0.1107  0.7754  0.7100     0\n",
       "52   0.1733 -0.2148 -0.0522  0.0542     0"
      ]
     },
     "execution_count": 36,
     "metadata": {},
     "output_type": "execute_result"
    }
   ],
   "source": [
    "data_1 = df1.loc[df1['type'] == 1]\n",
    "data_2 = df1.loc[df1['type'] == 0]\n",
    "data_2.sample(20)"
   ]
  },
  {
   "cell_type": "code",
   "execution_count": 37,
   "metadata": {},
   "outputs": [
    {
     "data": {
      "image/png": "[encoded data removed]",
      "text/plain": [
       "<Figure size 432x288 with 1 Axes>"
      ]
     },
     "metadata": {
      "needs_background": "light"
     },
     "output_type": "display_data"
    }
   ],
   "source": [
    "from turtle import color\n",
    "\n",
    "X_data_1 = pd.DataFrame(data_1, columns=['x'])\n",
    "Y_data_1 = pd.DataFrame(data_1, columns=['y'])\n",
    "X_data_2 = pd.DataFrame(data_2, columns=['x'])\n",
    "Y_data_2 = pd.DataFrame(data_2, columns=['y'])\n",
    "plt.scatter(X_data_1, Y_data_1, color='red')\n",
    "plt.scatter(X_data_2, Y_data_2, color='blue')\n",
    "plt.show()"
   ]
  },
  {
   "cell_type": "code",
   "execution_count": 38,
   "metadata": {},
   "outputs": [
    {
     "data": {
      "image/png": "[encoded data removed]",
      "text/plain": [
       "<Figure size 432x288 with 1 Axes>"
      ]
     },
     "metadata": {
      "needs_background": "light"
     },
     "output_type": "display_data"
    }
   ],
   "source": [
    "RX_data_1 = pd.DataFrame(data_1, columns=['rx'])\n",
    "RY_data_1 = pd.DataFrame(data_1, columns=['ry'])\n",
    "RX_data_2 = pd.DataFrame(data_2, columns=['rx'])\n",
    "RY_data_2 = pd.DataFrame(data_2, columns=['ry'])\n",
    "plt.scatter(RX_data_1, RY_data_1, color='red')\n",
    "plt.scatter(RX_data_2, RY_data_2, color='blue')\n",
    "plt.show()"
   ]
  },
  {
   "cell_type": "code",
   "execution_count": 39,
   "metadata": {},
   "outputs": [
    {
     "data": {
      "image/png": "[encoded data removed]",
      "text/plain": [
       "<Figure size 432x288 with 1 Axes>"
      ]
     },
     "metadata": {
      "needs_background": "light"
     },
     "output_type": "display_data"
    }
   ],
   "source": [
    "plt.scatter(X_data_1, RY_data_1, color='red')\n",
    "plt.scatter(RX_data_1, Y_data_1, color='blue')\n",
    "plt.show()"
   ]
  },
  {
   "cell_type": "code",
   "execution_count": 40,
   "metadata": {},
   "outputs": [
    {
     "data": {
      "image/png": "[encoded data removed]",
      "text/plain": [
       "<Figure size 432x288 with 1 Axes>"
      ]
     },
     "metadata": {
      "needs_background": "light"
     },
     "output_type": "display_data"
    }
   ],
   "source": [
    "plt.scatter(X_data_2, RY_data_2, color='red')\n",
    "plt.scatter(RX_data_2, Y_data_2, color='blue')\n",
    "plt.show()"
   ]
  },
  {
   "cell_type": "code",
   "execution_count": 41,
   "metadata": {},
   "outputs": [
    {
     "data": {
      "image/png": "[encoded data removed]",
      "text/plain": [
       "<Figure size 432x288 with 1 Axes>"
      ]
     },
     "metadata": {
      "needs_background": "light"
     },
     "output_type": "display_data"
    }
   ],
   "source": [
    "plt.scatter(X_data_1, RX_data_1, color='red')\n",
    "plt.scatter(Y_data_1, RY_data_1, color='blue')\n",
    "plt.show()"
   ]
  },
  {
   "cell_type": "code",
   "execution_count": 42,
   "metadata": {},
   "outputs": [],
   "source": [
    "df_X = df1.loc[:, ['x', 'y', 'rx', 'ry']]\n",
    "df_y = df1.type"
   ]
  },
  {
   "cell_type": "code",
   "execution_count": 43,
   "metadata": {},
   "outputs": [
    {
     "data": {
      "text/plain": [
       "0      0\n",
       "1      1\n",
       "2      1\n",
       "3      1\n",
       "4      1\n",
       "      ..\n",
       "459    1\n",
       "460    1\n",
       "461    1\n",
       "462    1\n",
       "463    1\n",
       "Name: type, Length: 464, dtype: int64"
      ]
     },
     "execution_count": 43,
     "metadata": {},
     "output_type": "execute_result"
    }
   ],
   "source": [
    "df_y"
   ]
  },
  {
   "cell_type": "code",
   "execution_count": 44,
   "metadata": {},
   "outputs": [
    {
     "data": {
      "text/html": [
       "<div>\n",
       "<style scoped>\n",
       "    .dataframe tbody tr th:only-of-type {\n",
       "        vertical-align: middle;\n",
       "    }\n",
       "\n",
       "    .dataframe tbody tr th {\n",
       "        vertical-align: top;\n",
       "    }\n",
       "\n",
       "    .dataframe thead th {\n",
       "        text-align: right;\n",
       "    }\n",
       "</style>\n",
       "<table border=\"1\" class=\"dataframe\">\n",
       "  <thead>\n",
       "    <tr style=\"text-align: right;\">\n",
       "      <th></th>\n",
       "      <th>x</th>\n",
       "      <th>y</th>\n",
       "      <th>rx</th>\n",
       "      <th>ry</th>\n",
       "    </tr>\n",
       "  </thead>\n",
       "  <tbody>\n",
       "    <tr>\n",
       "      <th>437</th>\n",
       "      <td>0.0890</td>\n",
       "      <td>0.5445</td>\n",
       "      <td>-0.0222</td>\n",
       "      <td>0.0107</td>\n",
       "    </tr>\n",
       "    <tr>\n",
       "      <th>344</th>\n",
       "      <td>-0.1459</td>\n",
       "      <td>0.4113</td>\n",
       "      <td>-0.7623</td>\n",
       "      <td>0.0230</td>\n",
       "    </tr>\n",
       "    <tr>\n",
       "      <th>453</th>\n",
       "      <td>0.1995</td>\n",
       "      <td>0.2732</td>\n",
       "      <td>0.0176</td>\n",
       "      <td>-0.2312</td>\n",
       "    </tr>\n",
       "    <tr>\n",
       "      <th>432</th>\n",
       "      <td>-0.0616</td>\n",
       "      <td>-0.2545</td>\n",
       "      <td>-0.0141</td>\n",
       "      <td>0.1481</td>\n",
       "    </tr>\n",
       "    <tr>\n",
       "      <th>178</th>\n",
       "      <td>0.1693</td>\n",
       "      <td>-0.8578</td>\n",
       "      <td>-0.9152</td>\n",
       "      <td>0.4184</td>\n",
       "    </tr>\n",
       "    <tr>\n",
       "      <th>...</th>\n",
       "      <td>...</td>\n",
       "      <td>...</td>\n",
       "      <td>...</td>\n",
       "      <td>...</td>\n",
       "    </tr>\n",
       "    <tr>\n",
       "      <th>230</th>\n",
       "      <td>0.3445</td>\n",
       "      <td>0.3244</td>\n",
       "      <td>-0.4355</td>\n",
       "      <td>-0.6897</td>\n",
       "    </tr>\n",
       "    <tr>\n",
       "      <th>98</th>\n",
       "      <td>-0.0849</td>\n",
       "      <td>0.1922</td>\n",
       "      <td>0.1280</td>\n",
       "      <td>-0.0189</td>\n",
       "    </tr>\n",
       "    <tr>\n",
       "      <th>322</th>\n",
       "      <td>0.0116</td>\n",
       "      <td>0.5507</td>\n",
       "      <td>-1.0000</td>\n",
       "      <td>0.1474</td>\n",
       "    </tr>\n",
       "    <tr>\n",
       "      <th>382</th>\n",
       "      <td>-0.3785</td>\n",
       "      <td>0.3424</td>\n",
       "      <td>0.0035</td>\n",
       "      <td>-0.0035</td>\n",
       "    </tr>\n",
       "    <tr>\n",
       "      <th>365</th>\n",
       "      <td>-0.1073</td>\n",
       "      <td>-0.2014</td>\n",
       "      <td>0.4397</td>\n",
       "      <td>-0.0279</td>\n",
       "    </tr>\n",
       "  </tbody>\n",
       "</table>\n",
       "<p>348 rows × 4 columns</p>\n",
       "</div>"
      ],
      "text/plain": [
       "          x       y      rx      ry\n",
       "437  0.0890  0.5445 -0.0222  0.0107\n",
       "344 -0.1459  0.4113 -0.7623  0.0230\n",
       "453  0.1995  0.2732  0.0176 -0.2312\n",
       "432 -0.0616 -0.2545 -0.0141  0.1481\n",
       "178  0.1693 -0.8578 -0.9152  0.4184\n",
       "..      ...     ...     ...     ...\n",
       "230  0.3445  0.3244 -0.4355 -0.6897\n",
       "98  -0.0849  0.1922  0.1280 -0.0189\n",
       "322  0.0116  0.5507 -1.0000  0.1474\n",
       "382 -0.3785  0.3424  0.0035 -0.0035\n",
       "365 -0.1073 -0.2014  0.4397 -0.0279\n",
       "\n",
       "[348 rows x 4 columns]"
      ]
     },
     "execution_count": 44,
     "metadata": {},
     "output_type": "execute_result"
    }
   ],
   "source": [
    "X_train"
   ]
  },
  {
   "cell_type": "code",
   "execution_count": 45,
   "metadata": {},
   "outputs": [],
   "source": [
    "from sklearn.model_selection import train_test_split\n",
    "from sklearn.metrics import f1_score\n",
    "from sklearn.metrics import precision_score\n",
    "from sklearn.metrics import recall_score\n",
    "\n",
    "X_train, X_test, y_train, y_test = train_test_split(df_X, df_y, random_state=123)"
   ]
  },
  {
   "cell_type": "code",
   "execution_count": 46,
   "metadata": {},
   "outputs": [
    {
     "name": "stdout",
     "output_type": "stream",
     "text": [
      "0.7672413793103449\n",
      "0.7931034482758621\n"
     ]
    }
   ],
   "source": [
    "from sklearn.linear_model import LogisticRegression\n",
    "log_reg = LogisticRegression()\n",
    "log_reg.fit(X_train, y_train)\n",
    "print(log_reg.score(X_train, y_train))\n",
    "print(log_reg.score(X_test, y_test))"
   ]
  },
  {
   "cell_type": "code",
   "execution_count": 47,
   "metadata": {},
   "outputs": [
    {
     "name": "stdout",
     "output_type": "stream",
     "text": [
      "0.8017241379310345\n",
      "0.7844827586206896\n",
      "+++++++++++++++++\n",
      "pricision:  0.8073394495412844\n",
      "recall:  0.9565217391304348\n",
      "f1:  0.8756218905472638\n"
     ]
    }
   ],
   "source": [
    "from sklearn.preprocessing import PolynomialFeatures\n",
    "from sklearn.pipeline import Pipeline\n",
    "\n",
    "def PolynomialLogisticRegression(degree):\n",
    "  return Pipeline([\n",
    "    ('poly', PolynomialFeatures(degree=degree)),\n",
    "    ('log_reg', LogisticRegression())\n",
    "  ])\n",
    "\n",
    "poly_log_reg = PolynomialLogisticRegression(degree=3)\n",
    "poly_log_reg.fit(X_train, y_train)\n",
    "print(poly_log_reg.score(X_train, y_train))\n",
    "print(poly_log_reg.score(X_test, y_test))\n",
    "\n",
    "print('+++++++++++++++++')\n",
    "y_predict = poly_log_reg.predict(X_test)\n",
    "print(\"pricision: \", precision_score(y_test, y_predict))\n",
    "print(\"recall: \", recall_score(y_test, y_predict))\n",
    "print(\"f1: \",f1_score(y_test, y_predict))\n",
    "\n"
   ]
  },
  {
   "cell_type": "code",
   "execution_count": 48,
   "metadata": {},
   "outputs": [
    {
     "name": "stdout",
     "output_type": "stream",
     "text": [
      "0.7873563218390804\n",
      "0.7931034482758621\n"
     ]
    }
   ],
   "source": [
    "from sklearn.linear_model import SGDClassifier\n",
    "\n",
    "sgdc = SGDClassifier(loss='hinge', penalty='elasticnet')\n",
    "sgdc.fit(X_train, y_train)\n",
    "print(sgdc.score(X_train, y_train))\n",
    "print(sgdc.score(X_test, y_test))"
   ]
  },
  {
   "cell_type": "code",
   "execution_count": 49,
   "metadata": {},
   "outputs": [
    {
     "name": "stdout",
     "output_type": "stream",
     "text": [
      "0.8275862068965517\n",
      "0.8275862068965517\n",
      "+++++++++++++++++++++++++++++\n",
      "precision:  0.839622641509434\n",
      "recall:  0.967391304347826\n",
      "f1:  0.898989898989899\n"
     ]
    }
   ],
   "source": [
    "from sklearn.svm import SVC\n",
    "\n",
    "svc = SVC()\n",
    "svc.fit(X_train, y_train)\n",
    "print(svc.score(X_train, y_train))\n",
    "print(svc.score(X_test, y_test))\n",
    "print(\"+++++++++++++++++++++++++++++\")\n",
    "y_predict = svc.predict(X_test)\n",
    "print(\"precision: \", precision_score(y_test, y_predict))\n",
    "print(\"recall: \", recall_score(y_test, y_predict))\n",
    "print(\"f1: \", f1_score(y_test, y_predict))"
   ]
  },
  {
   "cell_type": "code",
   "execution_count": 50,
   "metadata": {},
   "outputs": [
    {
     "data": {
      "text/plain": [
       "array([1.28036455])"
      ]
     },
     "execution_count": 50,
     "metadata": {},
     "output_type": "execute_result"
    }
   ],
   "source": [
    "svc.intercept_"
   ]
  },
  {
   "cell_type": "code",
   "execution_count": 51,
   "metadata": {},
   "outputs": [],
   "source": [
    "import pickle\n",
    "pickle.dump(svc, open('svc_model', 'wb'))"
   ]
  },
  {
   "cell_type": "code",
   "execution_count": 52,
   "metadata": {},
   "outputs": [],
   "source": [
    "pickle.dump(log_reg, open('log_reg', 'wb'))"
   ]
  },
  {
   "cell_type": "code",
   "execution_count": 53,
   "metadata": {},
   "outputs": [
    {
     "name": "stdout",
     "output_type": "stream",
     "text": [
      "precision:  0.839622641509434\n"
     ]
    }
   ],
   "source": [
    "model = pickle.load(open('svc_model', 'rb'))\n",
    "y = model.predict(X_test)\n",
    "print(\"precision: \", precision_score(y_test, y))"
   ]
  },
  {
   "cell_type": "code",
   "execution_count": 54,
   "metadata": {},
   "outputs": [
    {
     "data": {
      "text/plain": [
       "array([1])"
      ]
     },
     "execution_count": 54,
     "metadata": {},
     "output_type": "execute_result"
    }
   ],
   "source": [
    "model.predict([[\"0.11008091156299298\",\"0.40200244463407075\",\"0.05479982724556556\",\"-0.042620798716178306\"]])\n"
   ]
  }
 ],
 "metadata": {
  "kernelspec": {
   "display_name": "Python 3.8.2 ('base')",
   "language": "python",
   "name": "python3"
  },
  "language_info": {
   "codemirror_mode": {
    "name": "ipython",
    "version": 3
   },
   "file_extension": ".py",
   "mimetype": "text/x-python",
   "name": "python",
   "nbconvert_exporter": "python",
   "pygments_lexer": "ipython3",
   "version": "3.8.2"
  },
  "orig_nbformat": 4,
  "vscode": {
   "interpreter": {
    "hash": "12685bb311716c36654bdbac1ae71e63070167e2e04c97a1a9beff30187a4154"
   }
  }
 },
 "nbformat": 4,
 "nbformat_minor": 2
}
